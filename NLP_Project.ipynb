{
  "cells": [
    {
      "cell_type": "markdown",
      "source": [
        "# **NLP** **Project**\n",
        "## Udit Gupta - 21CSU533\n",
        "## Aman Gupta - 21CSU505\n",
        "## Aditi Sharma - 21CSU499"
      ],
      "metadata": {
        "id": "H1R6RT7iAptD"
      }
    },
    {
      "cell_type": "code",
      "execution_count": null,
      "metadata": {
        "id": "OJ472GsSeieY"
      },
      "outputs": [],
      "source": [
        "from textblob import TextBlob"
      ]
    },
    {
      "cell_type": "code",
      "execution_count": null,
      "metadata": {
        "id": "r-sZiWTzeieY"
      },
      "outputs": [],
      "source": [
        "text1 = TextBlob(\"The Sealdah-bound Kanchanjungha Express collided with a goods train on Monday morning near New Jalpaiguri, a senior North Frontier Railway (NFR) official said. There are unconfirmed reports of injury to a few persons in the accident that took place around 9 am, the divisional railway manager of NFR's Katihar Division said. The 13174 Kanchanjunga Express from Agartala collided with the goods train near Rangapani close to New Jalpaiguri station, he said.\")"
      ]
    },
    {
      "cell_type": "code",
      "source": [
        "text = TextBlob(\"Udit is a good person\")"
      ],
      "metadata": {
        "id": "g0-CwKEFBci_"
      },
      "execution_count": null,
      "outputs": []
    },
    {
      "cell_type": "code",
      "execution_count": null,
      "metadata": {
        "colab": {
          "base_uri": "https://localhost:8080/"
        },
        "id": "sfUc8vqKeieZ",
        "outputId": "9e6a4469-9a25-4ee2-d996-448212ed7ab2"
      },
      "outputs": [
        {
          "output_type": "stream",
          "name": "stderr",
          "text": [
            "[nltk_data] Downloading package brown to /root/nltk_data...\n",
            "[nltk_data]   Unzipping corpora/brown.zip.\n"
          ]
        },
        {
          "output_type": "execute_result",
          "data": {
            "text/plain": [
              "True"
            ]
          },
          "metadata": {},
          "execution_count": 3
        }
      ],
      "source": [
        "import nltk\n",
        "nltk.download('brown')"
      ]
    },
    {
      "cell_type": "code",
      "execution_count": null,
      "metadata": {
        "colab": {
          "base_uri": "https://localhost:8080/"
        },
        "id": "HyaFASEAeieZ",
        "outputId": "14bc6f06-321e-4aee-eaff-65ee4452dbff"
      },
      "outputs": [
        {
          "output_type": "stream",
          "name": "stderr",
          "text": [
            "[nltk_data] Downloading package punkt to /root/nltk_data...\n",
            "[nltk_data]   Unzipping tokenizers/punkt.zip.\n",
            "[nltk_data] Downloading package averaged_perceptron_tagger to\n",
            "[nltk_data]     /root/nltk_data...\n",
            "[nltk_data]   Unzipping taggers/averaged_perceptron_tagger.zip.\n"
          ]
        },
        {
          "output_type": "execute_result",
          "data": {
            "text/plain": [
              "True"
            ]
          },
          "metadata": {},
          "execution_count": 4
        }
      ],
      "source": [
        "import nltk\n",
        "nltk.download('punkt')\n",
        "nltk.download('averaged_perceptron_tagger')\n"
      ]
    },
    {
      "cell_type": "code",
      "execution_count": null,
      "metadata": {
        "colab": {
          "base_uri": "https://localhost:8080/"
        },
        "id": "dW_OkHo1eiea",
        "outputId": "4a6b9ddf-4f00-4e4e-d34c-cc72acbe5f10"
      },
      "outputs": [
        {
          "output_type": "execute_result",
          "data": {
            "text/plain": [
              "[('Udit', 'NN'), ('is', 'VBZ'), ('a', 'DT'), ('good', 'JJ'), ('person', 'NN')]"
            ]
          },
          "metadata": {},
          "execution_count": 5
        }
      ],
      "source": [
        "text.tags"
      ]
    },
    {
      "cell_type": "code",
      "execution_count": null,
      "metadata": {
        "colab": {
          "base_uri": "https://localhost:8080/"
        },
        "id": "4wy3Kerdeiea",
        "outputId": "edfe6c6f-f0a8-4f2f-cf7c-e45b694870af"
      },
      "outputs": [
        {
          "output_type": "execute_result",
          "data": {
            "text/plain": [
              "Sentiment(polarity=0.7, subjectivity=0.6000000000000001)"
            ]
          },
          "metadata": {},
          "execution_count": 6
        }
      ],
      "source": [
        "text.sentiment"
      ]
    },
    {
      "cell_type": "code",
      "execution_count": null,
      "metadata": {
        "colab": {
          "base_uri": "https://localhost:8080/"
        },
        "id": "8oo-7xw_eiea",
        "outputId": "945baa1f-56bc-433e-cad6-7ef3b6ac5542"
      },
      "outputs": [
        {
          "output_type": "execute_result",
          "data": {
            "text/plain": [
              "WordList(['udit', 'good person'])"
            ]
          },
          "metadata": {},
          "execution_count": 7
        }
      ],
      "source": [
        "text.noun_phrases"
      ]
    },
    {
      "cell_type": "code",
      "execution_count": null,
      "metadata": {
        "colab": {
          "base_uri": "https://localhost:8080/"
        },
        "id": "KW7HZXkQeieb",
        "outputId": "e076e8f1-8c16-46b9-c23d-e8215e137de4"
      },
      "outputs": [
        {
          "output_type": "stream",
          "name": "stdout",
          "text": [
            "Sentences: ['The Sealdah-bound Kanchanjungha Express collided with a goods train on Monday morning near New Jalpaiguri, a senior North Frontier Railway (NFR) official said.', \"There are unconfirmed reports of injury to a few persons in the accident that took place around 9 am, the divisional railway manager of NFR's Katihar Division said.\", 'The 13174 Kanchanjunga Express from Agartala collided with the goods train near Rangapani close to New Jalpaiguri station, he said.']\n",
            "Words: ['The', 'Sealdah-bound', 'Kanchanjungha', 'Express', 'collided', 'with', 'a', 'goods', 'train', 'on', 'Monday', 'morning', 'near', 'New', 'Jalpaiguri', ',', 'a', 'senior', 'North', 'Frontier', 'Railway', '(', 'NFR', ')', 'official', 'said', '.', 'There', 'are', 'unconfirmed', 'reports', 'of', 'injury', 'to', 'a', 'few', 'persons', 'in', 'the', 'accident', 'that', 'took', 'place', 'around', '9', 'am', ',', 'the', 'divisional', 'railway', 'manager', 'of', 'NFR', \"'s\", 'Katihar', 'Division', 'said', '.', 'The', '13174', 'Kanchanjunga', 'Express', 'from', 'Agartala', 'collided', 'with', 'the', 'goods', 'train', 'near', 'Rangapani', 'close', 'to', 'New', 'Jalpaiguri', 'station', ',', 'he', 'said', '.']\n"
          ]
        }
      ],
      "source": [
        "from nltk.tokenize import word_tokenize, sent_tokenize\n",
        "\n",
        "text = \"The Sealdah-bound Kanchanjungha Express collided with a goods train on Monday morning near New Jalpaiguri, a senior North Frontier Railway (NFR) official said. There are unconfirmed reports of injury to a few persons in the accident that took place around 9 am, the divisional railway manager of NFR's Katihar Division said. The 13174 Kanchanjunga Express from Agartala collided with the goods train near Rangapani close to New Jalpaiguri station, he said.\"\n",
        "# Sentence Tokenization\n",
        "sentences = sent_tokenize(text)\n",
        "print(\"Sentences:\", sentences)\n",
        "\n",
        "# Word Tokenization\n",
        "words = word_tokenize(text)\n",
        "print(\"Words:\", words)"
      ]
    },
    {
      "cell_type": "code",
      "source": [
        "import nltk\n",
        "nltk.download('stopwords')\n",
        "nltk.download('wordnet')"
      ],
      "metadata": {
        "colab": {
          "base_uri": "https://localhost:8080/"
        },
        "id": "WRxs0LZwe6yg",
        "outputId": "da85c712-ad14-4307-a88c-8862d0b51b4e"
      },
      "execution_count": null,
      "outputs": [
        {
          "output_type": "stream",
          "name": "stderr",
          "text": [
            "[nltk_data] Downloading package stopwords to /root/nltk_data...\n",
            "[nltk_data]   Package stopwords is already up-to-date!\n",
            "[nltk_data] Downloading package wordnet to /root/nltk_data...\n"
          ]
        },
        {
          "output_type": "execute_result",
          "data": {
            "text/plain": [
              "True"
            ]
          },
          "metadata": {},
          "execution_count": 13
        }
      ]
    },
    {
      "cell_type": "code",
      "execution_count": null,
      "metadata": {
        "colab": {
          "base_uri": "https://localhost:8080/"
        },
        "id": "uCnsuasWeieb",
        "outputId": "df8aef3e-ae8d-4777-d235-56309d8685bd"
      },
      "outputs": [
        {
          "output_type": "stream",
          "name": "stdout",
          "text": [
            "Stopwords: {'doesn', 'but', 'how', 'against', \"don't\", 'his', 'she', 've', 'mightn', 'needn', 'doing', 'my', 'by', 't', \"aren't\", 'to', \"isn't\", 'no', \"wasn't\", 'wasn', 'shan', 'i', 'were', 'its', 'isn', 'than', 'did', 'because', 'have', 'further', \"weren't\", 'don', 'that', 'haven', \"you'll\", 'our', 'ma', 'you', 'off', 'again', 'hadn', 'same', 'd', 'as', 'should', 'and', 'them', 'where', 'if', 'do', 'ain', 'through', 'both', 'being', \"wouldn't\", 'your', 'not', 'they', 'too', 'this', 'other', \"shouldn't\", 'couldn', 'yourselves', \"won't\", \"that'll\", 'only', 'on', 'themselves', 'in', 'above', 'once', \"mustn't\", 'before', \"hasn't\", 'who', 'him', 're', 'we', 'mustn', 'their', 'about', 'all', 'each', 'into', \"didn't\", 'myself', 'such', \"she's\", 'down', 'theirs', 'be', 'these', 'while', 'own', 'had', \"shan't\", 'then', 'which', 'just', \"hadn't\", 'been', 'can', \"mightn't\", 'yours', 'few', 'between', 'more', 'very', 'yourself', 'does', \"you've\", 'whom', 'out', 'now', 'of', 'll', \"you're\", \"couldn't\", 'until', 'during', 'will', \"it's\", 'shouldn', 'won', 'her', 'are', 'any', 'over', \"doesn't\", 'hasn', 'there', 'ourselves', 'having', 'or', \"needn't\", 'after', 'itself', 'wouldn', 'from', 'am', 'when', 'o', 'nor', 'an', 'most', 'the', 'was', 'why', 'here', 'below', 'has', 'he', \"haven't\", 'hers', 'me', 'weren', 'up', \"you'd\", 'what', 'under', 'herself', 'a', 'those', 's', \"should've\", 'so', 'm', 'y', 'at', 'some', 'for', 'with', 'didn', 'ours', 'is', 'aren', 'it', 'himself'}\n",
            "Filtered Words: ['Sealdah-bound', 'Kanchanjungha', 'Express', 'collided', 'goods', 'train', 'Monday', 'morning', 'near', 'New', 'Jalpaiguri', ',', 'senior', 'North', 'Frontier', 'Railway', '(', 'NFR', ')', 'official', 'said', '.', 'unconfirmed', 'reports', 'injury', 'persons', 'accident', 'took', 'place', 'around', '9', ',', 'divisional', 'railway', 'manager', 'NFR', \"'s\", 'Katihar', 'Division', 'said', '.', '13174', 'Kanchanjunga', 'Express', 'Agartala', 'collided', 'goods', 'train', 'near', 'Rangapani', 'close', 'New', 'Jalpaiguri', 'station', ',', 'said', '.']\n"
          ]
        }
      ],
      "source": [
        "from nltk.corpus import stopwords\n",
        "\n",
        "# List of stopwords\n",
        "stop_words = set(stopwords.words('english'))\n",
        "print(\"Stopwords:\", stop_words)\n",
        "\n",
        "# Removing stopwords from text\n",
        "filtered_words = [word for word in words if word.lower() not in stop_words]\n",
        "print(\"Filtered Words:\", filtered_words)\n"
      ]
    },
    {
      "cell_type": "code",
      "execution_count": null,
      "metadata": {
        "colab": {
          "base_uri": "https://localhost:8080/"
        },
        "id": "d9jfN8ideiec",
        "outputId": "a320ddec-9aa7-4224-bddb-8aaf94874c1d"
      },
      "outputs": [
        {
          "output_type": "stream",
          "name": "stdout",
          "text": [
            "Lemmatized Words: ['Sealdah-bound', 'Kanchanjungha', 'Express', 'collided', 'good', 'train', 'Monday', 'morning', 'near', 'New', 'Jalpaiguri', ',', 'senior', 'North', 'Frontier', 'Railway', '(', 'NFR', ')', 'official', 'said', '.', 'unconfirmed', 'report', 'injury', 'person', 'accident', 'took', 'place', 'around', '9', ',', 'divisional', 'railway', 'manager', 'NFR', \"'s\", 'Katihar', 'Division', 'said', '.', '13174', 'Kanchanjunga', 'Express', 'Agartala', 'collided', 'good', 'train', 'near', 'Rangapani', 'close', 'New', 'Jalpaiguri', 'station', ',', 'said', '.']\n"
          ]
        }
      ],
      "source": [
        "from nltk.stem import WordNetLemmatizer\n",
        "\n",
        "lemmatizer = WordNetLemmatizer()\n",
        "\n",
        "# Lemmatizing words\n",
        "lemmatized_words = [lemmatizer.lemmatize(word) for word in filtered_words]\n",
        "print(\"Lemmatized Words:\", lemmatized_words)\n"
      ]
    },
    {
      "cell_type": "code",
      "execution_count": null,
      "metadata": {
        "id": "bg1tivrCeiec"
      },
      "outputs": [],
      "source": [
        "from gensim import corpora\n",
        "from gensim.models import LdaModel\n",
        "from pprint import pprint\n",
        "from gensim import similarities\n",
        "from gensim.models import TfidfModel\n",
        "from gensim.corpora import Dictionary\n",
        "\n",
        "# Tokenize documents\n",
        "tokenized_documents = [doc.lower().split() for doc in filtered_words]"
      ]
    },
    {
      "cell_type": "code",
      "execution_count": null,
      "metadata": {
        "colab": {
          "base_uri": "https://localhost:8080/"
        },
        "id": "oXY8HmfQeied",
        "outputId": "54bd8d21-22e4-4b12-99d3-3fac85d17d11"
      },
      "outputs": [
        {
          "output_type": "stream",
          "name": "stdout",
          "text": [
            "Dictionary<42 unique tokens: ['sealdah-bound', 'kanchanjungha', 'express', 'collided', 'goods']...>\n"
          ]
        }
      ],
      "source": [
        "dictionary = corpora.Dictionary(tokenized_documents)\n",
        "print(dictionary)"
      ]
    },
    {
      "cell_type": "code",
      "execution_count": null,
      "metadata": {
        "colab": {
          "base_uri": "https://localhost:8080/"
        },
        "id": "lpWBaVkReied",
        "outputId": "61fa0254-7236-401c-bc58-f2037b4ecd37"
      },
      "outputs": [
        {
          "output_type": "stream",
          "name": "stdout",
          "text": [
            "[[(0, 1)], [(1, 1)], [(2, 1)], [(3, 1)], [(4, 1)], [(5, 1)], [(6, 1)], [(7, 1)], [(8, 1)], [(9, 1)], [(10, 1)], [(11, 1)], [(12, 1)], [(13, 1)], [(14, 1)], [(15, 1)], [(16, 1)], [(17, 1)], [(18, 1)], [(19, 1)], [(20, 1)], [(21, 1)], [(22, 1)], [(23, 1)], [(24, 1)], [(25, 1)], [(26, 1)], [(27, 1)], [(28, 1)], [(29, 1)], [(30, 1)], [(11, 1)], [(31, 1)], [(15, 1)], [(32, 1)], [(17, 1)], [(33, 1)], [(34, 1)], [(35, 1)], [(20, 1)], [(21, 1)], [(36, 1)], [(37, 1)], [(2, 1)], [(38, 1)], [(3, 1)], [(4, 1)], [(5, 1)], [(8, 1)], [(39, 1)], [(40, 1)], [(9, 1)], [(10, 1)], [(41, 1)], [(11, 1)], [(20, 1)], [(21, 1)]]\n"
          ]
        }
      ],
      "source": [
        "corpus = [dictionary.doc2bow(doc) for doc in tokenized_documents]\n",
        "print(corpus)"
      ]
    },
    {
      "cell_type": "code",
      "execution_count": null,
      "metadata": {
        "colab": {
          "base_uri": "https://localhost:8080/"
        },
        "id": "qFWOjd5Qeied",
        "outputId": "51b01475-18b8-46da-9ff4-cd4e0fd629c2"
      },
      "outputs": [
        {
          "output_type": "stream",
          "name": "stdout",
          "text": [
            "[(0,\n",
            "  '0.064*\"the\" + 0.040*\"said\" + 0.028*\"railway\" + 0.028*\"of\" + 0.028*\"to\" + '\n",
            "  '0.028*\"train\" + 0.028*\"collided\" + 0.028*\"jalpaiguri\" + 0.028*\"near\" + '\n",
            "  '0.028*\"new\"'),\n",
            " (1,\n",
            "  '0.021*\"the\" + 0.021*\"said\" + 0.021*\"near\" + 0.021*\"to\" + 0.021*\"goods\" + '\n",
            "  '0.021*\"express\" + 0.021*\"with\" + 0.021*\"jalpaiguri\" + 0.020*\"train\" + '\n",
            "  '0.020*\"railway\"'),\n",
            " (2,\n",
            "  '0.021*\"the\" + 0.021*\"said\" + 0.021*\"new\" + 0.021*\"nfr\" + 0.021*\"express\" + '\n",
            "  '0.021*\"with\" + 0.021*\"of\" + 0.021*\"collided\" + 0.021*\"goods\" + '\n",
            "  '0.020*\"train\"')]\n"
          ]
        }
      ],
      "source": [
        "import gensim\n",
        "from gensim import corpora\n",
        "from pprint import pprint\n",
        "\n",
        "tokens = gensim.utils.simple_preprocess(text, deacc=True)\n",
        "\n",
        "dictionary = corpora.Dictionary([tokens])\n",
        "\n",
        "corpus = [dictionary.doc2bow(tokens)]\n",
        "\n",
        "lda_model = gensim.models.ldamodel.LdaModel(corpus=corpus,\n",
        "                                            id2word=dictionary,\n",
        "                                            num_topics=3,\n",
        "                                            random_state=42,\n",
        "                                            passes=10)\n",
        "\n",
        "# Print the topics and associated keywords\n",
        "pprint(lda_model.print_topics())\n"
      ]
    },
    {
      "cell_type": "markdown",
      "metadata": {
        "id": "mRXy9QNEeied"
      },
      "source": [
        "ANOTHER MODEL"
      ]
    },
    {
      "cell_type": "code",
      "execution_count": null,
      "metadata": {
        "colab": {
          "base_uri": "https://localhost:8080/"
        },
        "id": "aAd3ICzkeiee",
        "outputId": "c1bb5baf-9a7b-42c8-f308-7915cb95e07d"
      },
      "outputs": [
        {
          "output_type": "stream",
          "name": "stdout",
          "text": [
            "Topic 0:\n",
            "['train', 'new', 'near', 'jalpaiguri', 'goods', 'express', 'collided', 'said', 'railway']\n",
            "Topic 1:\n",
            "['said', 'railway', 'train', 'new', 'near', 'jalpaiguri', 'goods', 'express', 'collided']\n",
            "Topic 2:\n",
            "['railway', 'said', 'train', 'new', 'near', 'jalpaiguri', 'goods', 'express', 'collided']\n"
          ]
        }
      ],
      "source": [
        "from sklearn.feature_extraction.text import TfidfVectorizer\n",
        "from sklearn.decomposition import NMF\n",
        "\n",
        "# Define the news articles\n",
        "news_articles = [\n",
        "   \"The Sealdah-bound Kanchanjungha Express collided with a goods train on Monday morning near New Jalpaiguri.\",\n",
        "   \"A senior North Frontier Railway official said.\",\n",
        "   \"There are unconfirmed reports of injury to a few persons in the accident that took place around 9 am, the divisional railway manager of NFR's Katihar Division said. The 13174 Kanchanjunga Express from Agartala collided with the goods train near Rangapani close to New Jalpaiguri station, he said.\"\n",
        "]\n",
        "\n",
        "# Convert text to TF-IDF vectors\n",
        "tfidf_vectorizer = TfidfVectorizer(max_df=0.95, min_df=2, stop_words='english')\n",
        "tfidf = tfidf_vectorizer.fit_transform(news_articles)\n",
        "\n",
        "# Define the number of topics\n",
        "n_topics = 3\n",
        "\n",
        "# Run NMF\n",
        "nmf_model = NMF(n_components=n_topics, random_state=42)\n",
        "nmf_model.fit(tfidf)\n",
        "\n",
        "# Print the top words for each topic\n",
        "feature_names = tfidf_vectorizer.get_feature_names_out()\n",
        "for topic_idx, topic in enumerate(nmf_model.components_):\n",
        "    print(f\"Topic {topic_idx}:\")\n",
        "    top_words_idx = topic.argsort()[:-10 - 1:-1]\n",
        "    top_words = [feature_names[i] for i in top_words_idx]\n",
        "    print(top_words)\n"
      ]
    },
    {
      "cell_type": "markdown",
      "metadata": {
        "id": "_LhrIr48eief"
      },
      "source": [
        "IMPORT LIBRARIES"
      ]
    },
    {
      "cell_type": "code",
      "execution_count": null,
      "metadata": {
        "id": "b0UMnaZHeieg"
      },
      "outputs": [],
      "source": [
        "import spacy\n",
        "from nltk.tokenize import word_tokenize\n",
        "from nltk.corpus import stopwords\n",
        "from nltk.probability import FreqDist\n",
        "from textblob import TextBlob"
      ]
    },
    {
      "cell_type": "markdown",
      "metadata": {
        "id": "YWRRhBxmeieg"
      },
      "source": [
        "LOAD SPACY'S ENGLISH LANGUAGE MODEL"
      ]
    },
    {
      "cell_type": "code",
      "execution_count": null,
      "metadata": {
        "id": "b46ONYk_eieg"
      },
      "outputs": [],
      "source": []
    },
    {
      "cell_type": "markdown",
      "metadata": {
        "id": "3ng9Sqhpeieg"
      },
      "source": [
        "TEXT"
      ]
    },
    {
      "cell_type": "code",
      "execution_count": null,
      "metadata": {
        "id": "CgT9LFQPeieg"
      },
      "outputs": [],
      "source": [
        "text = \"A strike at Kuno National Park by villagers hired for cheetah tracking has halted work due to religious objections to slaughtering animals for the big cats. This has disrupted the cheetah tracking program.\""
      ]
    },
    {
      "cell_type": "markdown",
      "metadata": {
        "id": "iP6uzjT-eieg"
      },
      "source": [
        "TOKENIZATION"
      ]
    },
    {
      "cell_type": "code",
      "execution_count": null,
      "metadata": {
        "colab": {
          "base_uri": "https://localhost:8080/"
        },
        "id": "SZdYYpGUeieg",
        "outputId": "b53d927a-be76-4e07-8d1e-84162f145b17"
      },
      "outputs": [
        {
          "output_type": "stream",
          "name": "stdout",
          "text": [
            "Word Tokens: ['A', 'strike', 'at', 'Kuno', 'National', 'Park', 'by', 'villagers', 'hired', 'for', 'cheetah', 'tracking', 'has', 'halted', 'work', 'due', 'to', 'religious', 'objections', 'to', 'slaughtering', 'animals', 'for', 'the', 'big', 'cats', '.', 'This', 'has', 'disrupted', 'the', 'cheetah', 'tracking', 'program', '.']\n"
          ]
        }
      ],
      "source": [
        "tokens = word_tokenize(text)\n",
        "print(\"Word Tokens:\",tokens)"
      ]
    },
    {
      "cell_type": "markdown",
      "metadata": {
        "id": "hOQ-QYUKeieh"
      },
      "source": [
        "STOPWORD REMOVAL"
      ]
    },
    {
      "cell_type": "code",
      "execution_count": null,
      "metadata": {
        "colab": {
          "base_uri": "https://localhost:8080/"
        },
        "id": "mzb2fgDFeieh",
        "outputId": "dd6f5f70-511f-4f54-85eb-63c8ac3b60d6"
      },
      "outputs": [
        {
          "output_type": "stream",
          "name": "stdout",
          "text": [
            "Filtered Words: ['strike', 'Kuno', 'National', 'Park', 'villagers', 'hired', 'cheetah', 'tracking', 'halted', 'work', 'due', 'religious', 'objections', 'slaughtering', 'animals', 'big', 'cats', 'disrupted', 'cheetah', 'tracking', 'program']\n"
          ]
        }
      ],
      "source": [
        "stop_words = set(stopwords.words('english'))\n",
        "filtered_tokens = [word for word in tokens if word.isalpha() and word.lower() not in stop_words]\n",
        "print(\"Filtered Words:\",filtered_tokens)"
      ]
    },
    {
      "cell_type": "code",
      "execution_count": null,
      "metadata": {
        "colab": {
          "base_uri": "https://localhost:8080/"
        },
        "id": "fgMiNR0Weieh",
        "outputId": "d8558450-35f0-453a-99e8-7edfb98d5111"
      },
      "outputs": [
        {
          "output_type": "stream",
          "name": "stdout",
          "text": [
            "<FreqDist with 19 samples and 21 outcomes>\n"
          ]
        }
      ],
      "source": [
        "freq_dist = FreqDist(filtered_tokens)\n",
        "print(freq_dist)"
      ]
    },
    {
      "cell_type": "code",
      "source": [
        "nlp = spacy.load(\"en_core_web_sm\")\n"
      ],
      "metadata": {
        "id": "C9MD854ggDvN"
      },
      "execution_count": null,
      "outputs": []
    },
    {
      "cell_type": "markdown",
      "metadata": {
        "id": "94EXC7Useieh"
      },
      "source": [
        "ENTITIES"
      ]
    },
    {
      "cell_type": "code",
      "execution_count": null,
      "metadata": {
        "colab": {
          "base_uri": "https://localhost:8080/"
        },
        "id": "oKrPxDSFeieh",
        "outputId": "4b8db2d0-4b8a-40ff-a7b8-10400528af77"
      },
      "outputs": [
        {
          "output_type": "stream",
          "name": "stdout",
          "text": [
            "[('Kuno National Park', 'FAC')]\n"
          ]
        }
      ],
      "source": [
        "doc = nlp(text)\n",
        "entities = [(ent.text, ent.label_) for ent in doc.ents]\n",
        "print(entities)"
      ]
    },
    {
      "cell_type": "markdown",
      "metadata": {
        "id": "g1bh_4edeiei"
      },
      "source": [
        "PART-OF-SPEECH TAGGING"
      ]
    },
    {
      "cell_type": "code",
      "execution_count": null,
      "metadata": {
        "colab": {
          "base_uri": "https://localhost:8080/"
        },
        "id": "BPPSKC_Beiei",
        "outputId": "b33b8950-65f7-4a4b-fdb1-1c8900706e8e"
      },
      "outputs": [
        {
          "output_type": "stream",
          "name": "stdout",
          "text": [
            "[('A', 'DET'), ('strike', 'NOUN'), ('at', 'ADP'), ('Kuno', 'PROPN'), ('National', 'PROPN'), ('Park', 'PROPN'), ('by', 'ADP'), ('villagers', 'NOUN'), ('hired', 'VERB'), ('for', 'ADP'), ('cheetah', 'PROPN'), ('tracking', 'NOUN'), ('has', 'AUX'), ('halted', 'VERB'), ('work', 'NOUN'), ('due', 'ADP'), ('to', 'ADP'), ('religious', 'ADJ'), ('objections', 'NOUN'), ('to', 'ADP'), ('slaughtering', 'VERB'), ('animals', 'NOUN'), ('for', 'ADP'), ('the', 'DET'), ('big', 'ADJ'), ('cats', 'NOUN'), ('.', 'PUNCT'), ('This', 'PRON'), ('has', 'AUX'), ('disrupted', 'VERB'), ('the', 'DET'), ('cheetah', 'PROPN'), ('tracking', 'NOUN'), ('program', 'NOUN'), ('.', 'PUNCT')]\n"
          ]
        }
      ],
      "source": [
        "pos_tags = [(token.text, token.pos_) for token in doc]\n",
        "print(pos_tags)"
      ]
    },
    {
      "cell_type": "markdown",
      "metadata": {
        "id": "Qq36WIPAeiei"
      },
      "source": [
        "SENTIMENTS"
      ]
    },
    {
      "cell_type": "code",
      "execution_count": null,
      "metadata": {
        "colab": {
          "base_uri": "https://localhost:8080/"
        },
        "id": "3EmThIx8eiei",
        "outputId": "4294f5ad-7de1-4389-ec3b-eb466a447110"
      },
      "outputs": [
        {
          "output_type": "stream",
          "name": "stdout",
          "text": [
            "Sentiment(polarity=-0.041666666666666664, subjectivity=0.24166666666666667)\n"
          ]
        }
      ],
      "source": [
        "blob = TextBlob(text)\n",
        "sentiment = blob.sentiment\n",
        "print(sentiment)"
      ]
    },
    {
      "cell_type": "markdown",
      "metadata": {
        "id": "W1wKY3Xqeiei"
      },
      "source": [
        "KEYWORDS"
      ]
    },
    {
      "cell_type": "code",
      "execution_count": null,
      "metadata": {
        "colab": {
          "base_uri": "https://localhost:8080/"
        },
        "id": "-vDwU0Hheiep",
        "outputId": "89f856a1-7d10-465c-90a2-78e9f035de73"
      },
      "outputs": [
        {
          "output_type": "stream",
          "name": "stdout",
          "text": [
            "Keywords: [('cheetah', 2), ('tracking', 2), ('strike', 1), ('Kuno', 1), ('National', 1)]\n"
          ]
        }
      ],
      "source": [
        "keywords = freq_dist.most_common(5)\n",
        "print(\"Keywords:\",keywords)"
      ]
    },
    {
      "cell_type": "markdown",
      "metadata": {
        "id": "4YbWNfo8eiep"
      },
      "source": [
        "DEPENDENCY PARSING"
      ]
    },
    {
      "cell_type": "code",
      "execution_count": null,
      "metadata": {
        "colab": {
          "base_uri": "https://localhost:8080/"
        },
        "id": "keaUIX7yeiep",
        "outputId": "b0b36975-649b-42f3-8afb-946fc43cc16a"
      },
      "outputs": [
        {
          "output_type": "stream",
          "name": "stdout",
          "text": [
            "Dependencies: [('A', 'det', 'strike'), ('strike', 'nsubj', 'halted'), ('at', 'prep', 'strike'), ('Kuno', 'compound', 'Park'), ('National', 'compound', 'Park'), ('Park', 'pobj', 'at'), ('by', 'prep', 'strike'), ('villagers', 'pobj', 'by'), ('hired', 'acl', 'villagers'), ('for', 'prep', 'hired'), ('cheetah', 'compound', 'tracking'), ('tracking', 'pobj', 'for'), ('has', 'aux', 'halted'), ('halted', 'ROOT', 'halted'), ('work', 'dobj', 'halted'), ('due', 'prep', 'halted'), ('to', 'pcomp', 'due'), ('religious', 'amod', 'objections'), ('objections', 'pobj', 'to'), ('to', 'prep', 'objections'), ('slaughtering', 'pcomp', 'to'), ('animals', 'dobj', 'slaughtering'), ('for', 'prep', 'slaughtering'), ('the', 'det', 'cats'), ('big', 'amod', 'cats'), ('cats', 'pobj', 'for'), ('.', 'punct', 'halted'), ('This', 'nsubj', 'disrupted'), ('has', 'aux', 'disrupted'), ('disrupted', 'ROOT', 'disrupted'), ('the', 'det', 'program'), ('cheetah', 'compound', 'program'), ('tracking', 'compound', 'program'), ('program', 'dobj', 'disrupted'), ('.', 'punct', 'disrupted')]\n"
          ]
        }
      ],
      "source": [
        "dependencies = [(token.text, token.dep_, token.head.text) for token in doc]\n",
        "print(\"Dependencies:\",dependencies)"
      ]
    },
    {
      "cell_type": "code",
      "execution_count": null,
      "metadata": {
        "id": "63rD-YLFeiep"
      },
      "outputs": [],
      "source": [
        "from gensim import corpora\n",
        "from gensim.models.ldamodel import LdaModel"
      ]
    },
    {
      "cell_type": "markdown",
      "metadata": {
        "id": "ldReYEdaeieq"
      },
      "source": [
        "CREATE DICTIONARY AND CORPUS FOR LDA MODEL"
      ]
    },
    {
      "cell_type": "code",
      "execution_count": null,
      "metadata": {
        "id": "II0I9U55eieq"
      },
      "outputs": [],
      "source": [
        "dictionary = corpora.Dictionary([filtered_tokens])\n",
        "corpus = [dictionary.doc2bow(filtered_tokens)]"
      ]
    },
    {
      "cell_type": "code",
      "execution_count": null,
      "metadata": {
        "id": "SJWIqnsMeieq"
      },
      "outputs": [],
      "source": [
        "lda_model = LdaModel(corpus, num_topics=5, id2word=dictionary, passes=15)\n"
      ]
    },
    {
      "cell_type": "markdown",
      "metadata": {
        "id": "kGsrJLDGeieq"
      },
      "source": [
        "TOPIC MODELLING"
      ]
    },
    {
      "cell_type": "code",
      "execution_count": null,
      "metadata": {
        "colab": {
          "base_uri": "https://localhost:8080/"
        },
        "id": "ZErLOn2Heieq",
        "outputId": "481545b2-b059-4ac8-a9cc-6ea3aa583361"
      },
      "outputs": [
        {
          "output_type": "stream",
          "name": "stdout",
          "text": [
            "LDA Topics:\n",
            "(0, '0.053*\"due\" + 0.053*\"animals\" + 0.053*\"cats\"')\n",
            "(1, '0.053*\"due\" + 0.053*\"cats\" + 0.053*\"objections\"')\n",
            "(2, '0.053*\"Park\" + 0.053*\"slaughtering\" + 0.053*\"cats\"')\n",
            "(3, '0.089*\"tracking\" + 0.089*\"cheetah\" + 0.048*\"National\"')\n",
            "(4, '0.053*\"due\" + 0.053*\"program\" + 0.053*\"halted\"')\n"
          ]
        }
      ],
      "source": [
        "topics = lda_model.print_topics(num_words=3)\n",
        "print(\"LDA Topics:\")\n",
        "for topic in topics:\n",
        "    print(topic)"
      ]
    },
    {
      "cell_type": "code",
      "execution_count": null,
      "metadata": {
        "id": "KqMkLqqqeier"
      },
      "outputs": [],
      "source": []
    },
    {
      "cell_type": "markdown",
      "metadata": {
        "id": "caB5hEzkeier"
      },
      "source": [
        "19-06-24"
      ]
    },
    {
      "cell_type": "code",
      "execution_count": null,
      "metadata": {
        "id": "oRv95Y2Ueier"
      },
      "outputs": [],
      "source": [
        "import spacy\n",
        "from nltk.tokenize import word_tokenize\n",
        "from nltk.corpus import stopwords\n",
        "from nltk.probability import FreqDist\n",
        "from textblob import TextBlob"
      ]
    },
    {
      "cell_type": "code",
      "execution_count": null,
      "metadata": {
        "id": "CGP0EdQbeier"
      },
      "outputs": [],
      "source": [
        "text = \"Prime Minister Narendra Modi officially opened the new campus of Nalanda University, situated in Rajgir, Bihar. The newly constructed campus will be located in close proximity to the ancient ruins of the original university. Prior to the inauguration ceremony, PM Modi took the opportunity to explore and observe the remnants of the historic Nalanda University.\""
      ]
    },
    {
      "cell_type": "code",
      "execution_count": null,
      "metadata": {
        "id": "xMQnoFoZeier",
        "outputId": "33b848b0-1afe-4709-c3df-b6a8d83fcefb"
      },
      "outputs": [
        {
          "name": "stdout",
          "output_type": "stream",
          "text": [
            "Word Tokens: ['Prime', 'Minister', 'Narendra', 'Modi', 'officially', 'opened', 'the', 'new', 'campus', 'of', 'Nalanda', 'University', ',', 'situated', 'in', 'Rajgir', ',', 'Bihar', '.', 'The', 'newly', 'constructed', 'campus', 'will', 'be', 'located', 'in', 'close', 'proximity', 'to', 'the', 'ancient', 'ruins', 'of', 'the', 'original', 'university', '.', 'Prior', 'to', 'the', 'inauguration', 'ceremony', ',', 'PM', 'Modi', 'took', 'the', 'opportunity', 'to', 'explore', 'and', 'observe', 'the', 'remnants', 'of', 'the', 'historic', 'Nalanda', 'University', '.']\n"
          ]
        }
      ],
      "source": [
        "tokens = word_tokenize(text)\n",
        "print(\"Word Tokens:\", tokens)"
      ]
    },
    {
      "cell_type": "code",
      "execution_count": null,
      "metadata": {
        "id": "dh02D7Jzeies",
        "outputId": "15dee683-535e-4a09-eca6-064b90b878c8"
      },
      "outputs": [
        {
          "name": "stdout",
          "output_type": "stream",
          "text": [
            "Filtered Words: ['Prime', 'Minister', 'Narendra', 'Modi', 'officially', 'opened', 'new', 'campus', 'Nalanda', 'University', 'situated', 'Rajgir', 'Bihar', 'newly', 'constructed', 'campus', 'located', 'close', 'proximity', 'ancient', 'ruins', 'original', 'university', 'Prior', 'inauguration', 'ceremony', 'PM', 'Modi', 'took', 'opportunity', 'explore', 'observe', 'remnants', 'historic', 'Nalanda', 'University']\n"
          ]
        }
      ],
      "source": [
        "stop_words = set(stopwords.words('english'))\n",
        "filtered_tokens = [word for word in tokens if word.isalpha() and word.lower() not in stop_words]\n",
        "print(\"Filtered Words:\",filtered_tokens)"
      ]
    },
    {
      "cell_type": "code",
      "execution_count": null,
      "metadata": {
        "id": "DguHUtB3eies",
        "outputId": "2e4bd7ee-77b2-436b-de50-4fd26505fdbc"
      },
      "outputs": [
        {
          "name": "stdout",
          "output_type": "stream",
          "text": [
            "<FreqDist with 32 samples and 36 outcomes>\n"
          ]
        }
      ],
      "source": [
        "freq_dist = FreqDist(filtered_tokens)\n",
        "print(freq_dist)"
      ]
    },
    {
      "cell_type": "code",
      "execution_count": null,
      "metadata": {
        "id": "4UQj1NFQeies",
        "outputId": "87d6b44e-3c33-43f5-842a-70dd364fa277"
      },
      "outputs": [
        {
          "name": "stdout",
          "output_type": "stream",
          "text": [
            "[('Narendra Modi', 'PERSON'), ('Nalanda University', 'ORG'), ('Rajgir', 'GPE'), ('Bihar', 'GPE'), ('PM Modi', 'ORG'), ('Nalanda University', 'ORG')]\n"
          ]
        }
      ],
      "source": [
        "doc = nlp(text)\n",
        "entities = [(ent.text, ent.label_) for ent in doc.ents]\n",
        "print(entities)"
      ]
    },
    {
      "cell_type": "code",
      "execution_count": null,
      "metadata": {
        "id": "bTY_w13Reiet",
        "outputId": "bf9fbb1e-16dd-43cd-82e2-bf2a51dee2ac"
      },
      "outputs": [
        {
          "name": "stdout",
          "output_type": "stream",
          "text": [
            "[('Prime', 'PROPN'), ('Minister', 'PROPN'), ('Narendra', 'PROPN'), ('Modi', 'PROPN'), ('officially', 'ADV'), ('opened', 'VERB'), ('the', 'DET'), ('new', 'ADJ'), ('campus', 'NOUN'), ('of', 'ADP'), ('Nalanda', 'PROPN'), ('University', 'PROPN'), (',', 'PUNCT'), ('situated', 'VERB'), ('in', 'ADP'), ('Rajgir', 'PROPN'), (',', 'PUNCT'), ('Bihar', 'PROPN'), ('.', 'PUNCT'), ('The', 'DET'), ('newly', 'ADV'), ('constructed', 'VERB'), ('campus', 'NOUN'), ('will', 'AUX'), ('be', 'AUX'), ('located', 'VERB'), ('in', 'ADP'), ('close', 'ADJ'), ('proximity', 'NOUN'), ('to', 'ADP'), ('the', 'DET'), ('ancient', 'ADJ'), ('ruins', 'NOUN'), ('of', 'ADP'), ('the', 'DET'), ('original', 'ADJ'), ('university', 'NOUN'), ('.', 'PUNCT'), ('Prior', 'ADV'), ('to', 'ADP'), ('the', 'DET'), ('inauguration', 'NOUN'), ('ceremony', 'NOUN'), (',', 'PUNCT'), ('PM', 'PROPN'), ('Modi', 'PROPN'), ('took', 'VERB'), ('the', 'DET'), ('opportunity', 'NOUN'), ('to', 'PART'), ('explore', 'VERB'), ('and', 'CCONJ'), ('observe', 'VERB'), ('the', 'DET'), ('remnants', 'NOUN'), ('of', 'ADP'), ('the', 'DET'), ('historic', 'ADJ'), ('Nalanda', 'PROPN'), ('University', 'PROPN'), ('.', 'PUNCT')]\n"
          ]
        }
      ],
      "source": [
        "pos_tags = [(token.text, token.pos_) for token in doc]\n",
        "print(pos_tags)"
      ]
    },
    {
      "cell_type": "code",
      "execution_count": null,
      "metadata": {
        "id": "DocGREhneiet",
        "outputId": "33ea4ffc-26ef-4e83-92f2-309371919f77"
      },
      "outputs": [
        {
          "name": "stdout",
          "output_type": "stream",
          "text": [
            "Sentiment(polarity=0.08295454545454545, subjectivity=0.3098484848484849)\n"
          ]
        }
      ],
      "source": [
        "blob = TextBlob(text)\n",
        "sentiment = blob.sentiment\n",
        "print(sentiment)"
      ]
    },
    {
      "cell_type": "code",
      "execution_count": null,
      "metadata": {
        "id": "1u--ghjTeiet",
        "outputId": "ca9f7226-6862-4e58-f41d-2cd4cbac55e3"
      },
      "outputs": [
        {
          "name": "stdout",
          "output_type": "stream",
          "text": [
            "Keywords: [('Modi', 2), ('campus', 2), ('Nalanda', 2), ('University', 2), ('Prime', 1)]\n"
          ]
        }
      ],
      "source": [
        "keywords = freq_dist.most_common(5)\n",
        "print(\"Keywords:\",keywords)"
      ]
    },
    {
      "cell_type": "code",
      "execution_count": null,
      "metadata": {
        "id": "Sy6m1Yj1eiet",
        "outputId": "1df8e501-aee4-46d6-a60a-b18236679abb"
      },
      "outputs": [
        {
          "name": "stdout",
          "output_type": "stream",
          "text": [
            "Dependencies: [('Prime', 'compound', 'Minister'), ('Minister', 'compound', 'Modi'), ('Narendra', 'compound', 'Modi'), ('Modi', 'nsubj', 'opened'), ('officially', 'advmod', 'opened'), ('opened', 'ROOT', 'opened'), ('the', 'det', 'campus'), ('new', 'amod', 'campus'), ('campus', 'dobj', 'opened'), ('of', 'prep', 'campus'), ('Nalanda', 'compound', 'University'), ('University', 'pobj', 'of'), (',', 'punct', 'campus'), ('situated', 'acl', 'campus'), ('in', 'prep', 'situated'), ('Rajgir', 'pobj', 'in'), (',', 'punct', 'Rajgir'), ('Bihar', 'appos', 'Rajgir'), ('.', 'punct', 'opened'), ('The', 'det', 'campus'), ('newly', 'advmod', 'constructed'), ('constructed', 'amod', 'campus'), ('campus', 'nsubjpass', 'located'), ('will', 'aux', 'located'), ('be', 'auxpass', 'located'), ('located', 'ROOT', 'located'), ('in', 'prep', 'located'), ('close', 'amod', 'proximity'), ('proximity', 'pobj', 'in'), ('to', 'prep', 'proximity'), ('the', 'det', 'ruins'), ('ancient', 'amod', 'ruins'), ('ruins', 'pobj', 'to'), ('of', 'prep', 'ruins'), ('the', 'det', 'university'), ('original', 'amod', 'university'), ('university', 'pobj', 'of'), ('.', 'punct', 'located'), ('Prior', 'advmod', 'took'), ('to', 'prep', 'Prior'), ('the', 'det', 'ceremony'), ('inauguration', 'compound', 'ceremony'), ('ceremony', 'pobj', 'to'), (',', 'punct', 'took'), ('PM', 'compound', 'Modi'), ('Modi', 'nsubj', 'took'), ('took', 'ROOT', 'took'), ('the', 'det', 'opportunity'), ('opportunity', 'dobj', 'took'), ('to', 'aux', 'explore'), ('explore', 'acl', 'opportunity'), ('and', 'cc', 'explore'), ('observe', 'conj', 'explore'), ('the', 'det', 'remnants'), ('remnants', 'dobj', 'observe'), ('of', 'prep', 'remnants'), ('the', 'det', 'University'), ('historic', 'amod', 'University'), ('Nalanda', 'compound', 'University'), ('University', 'pobj', 'of'), ('.', 'punct', 'took')]\n"
          ]
        }
      ],
      "source": [
        "dependencies = [(token.text, token.dep_, token.head.text) for token in doc]\n",
        "print(\"Dependencies:\",dependencies)"
      ]
    },
    {
      "cell_type": "code",
      "execution_count": null,
      "metadata": {
        "id": "e89rTBJ0eiet"
      },
      "outputs": [],
      "source": [
        "from gensim import corpora\n",
        "from gensim.models.ldamodel import LdaModel"
      ]
    },
    {
      "cell_type": "code",
      "execution_count": null,
      "metadata": {
        "id": "JWZooxtEeiew"
      },
      "outputs": [],
      "source": [
        "dictionary = corpora.Dictionary([filtered_tokens])\n",
        "corpus = [dictionary.doc2bow(filtered_tokens)]"
      ]
    },
    {
      "cell_type": "code",
      "execution_count": null,
      "metadata": {
        "id": "u9lVPRTPeiew"
      },
      "outputs": [],
      "source": [
        "lda_model = LdaModel(corpus, num_topics = 3, id2word=dictionary, passes=15)"
      ]
    },
    {
      "cell_type": "code",
      "execution_count": null,
      "metadata": {
        "id": "dzvEJATBeiew",
        "outputId": "84fc5670-a32c-4646-fec4-91bdcbf69ac3"
      },
      "outputs": [
        {
          "name": "stdout",
          "output_type": "stream",
          "text": [
            "LDA Topics:\n",
            "(0, '0.031*\"University\" + 0.031*\"Nalanda\" + 0.031*\"campus\"')\n",
            "(1, '0.050*\"Modi\" + 0.050*\"campus\" + 0.050*\"University\"')\n",
            "(2, '0.031*\"Nalanda\" + 0.031*\"campus\" + 0.031*\"University\"')\n"
          ]
        }
      ],
      "source": [
        "topics = lda_model.print_topics(num_words=3)\n",
        "print(\"LDA Topics:\")\n",
        "for topic in topics:\n",
        "    print(topic)"
      ]
    },
    {
      "cell_type": "markdown",
      "metadata": {
        "id": "1K2-Iiq8eiex"
      },
      "source": [
        "SENITMENS"
      ]
    },
    {
      "cell_type": "code",
      "execution_count": null,
      "metadata": {
        "id": "G2v932BWeiex",
        "outputId": "1c6431ed-8451-4194-9a77-0a4601309640"
      },
      "outputs": [
        {
          "name": "stdout",
          "output_type": "stream",
          "text": [
            "Sentiment: Positive\n"
          ]
        }
      ],
      "source": [
        "from textblob import TextBlob\n",
        "\n",
        "def get_sentiment_text(text):\n",
        "    # Create a TextBlob object\n",
        "    blob = TextBlob(text)\n",
        "    # Get the sentiment polarity\n",
        "    polarity = blob.sentiment.polarity\n",
        "    # Map polarity to sentiment words\n",
        "    if polarity > 0:\n",
        "        return \"Positive\"\n",
        "    elif polarity < 0:\n",
        "        return \"Negative\"\n",
        "    else:\n",
        "        return \"Neutral\"\n",
        "\n",
        "\n",
        "sentiment = get_sentiment_text(text)\n",
        "print(f\"Sentiment: {sentiment}\")  # Output: Sentiment: Positive\n"
      ]
    },
    {
      "cell_type": "code",
      "execution_count": null,
      "metadata": {
        "id": "v6-oE8l8eiex",
        "outputId": "d442bf87-84cc-4066-f848-163a96864ca6"
      },
      "outputs": [
        {
          "name": "stdout",
          "output_type": "stream",
          "text": [
            "Original Text: Prime Minister Narendra Modi officially opened the new campus of Nalanda University, situated in Rajgir, Bihar. The newly constructed campus will be located in close proximity to the ancient ruins of the original university. Prior to the inauguration ceremony, PM Modi took the opportunity to explore and observe the remnants of the historic Nalanda University.\n",
            "Preprocessed Text: prime minister narendra modi officially opened new campus nalanda university situated rajgir bihar newly constructed campus located close proximity ancient ruins original university prior inauguration ceremony pm modi took opportunity explore observe remnants historic nalanda university\n",
            "Sentiment: Positive\n",
            "Keywords: ['university', 'campus', 'modi', 'nalanda', 'new']\n"
          ]
        }
      ],
      "source": [
        "import nltk\n",
        "from nltk.corpus import stopwords\n",
        "from nltk.tokenize import word_tokenize\n",
        "from textblob import TextBlob\n",
        "from sklearn.feature_extraction.text import TfidfVectorizer\n",
        "\n",
        "\n",
        "# Step 1: Text Preprocessing\n",
        "def preprocess_text(text):\n",
        "    # Convert text to lowercase\n",
        "    text = text.lower()\n",
        "    # Tokenize text\n",
        "    words = word_tokenize(text)\n",
        "    # Remove stopwords and punctuation\n",
        "    words = [word for word in words if word.isalnum()]\n",
        "    words = [word for word in words if word not in stopwords.words('english')]\n",
        "    return ' '.join(words)\n",
        "\n",
        "# Step 2: Sentiment Analysis\n",
        "def get_sentiment(text):\n",
        "    blob = TextBlob(text)\n",
        "    polarity = blob.sentiment.polarity\n",
        "    if polarity > 0:\n",
        "        return \"Positive\"\n",
        "    elif polarity < 0:\n",
        "        return \"Negative\"\n",
        "    else:\n",
        "        return \"Neutral\"\n",
        "\n",
        "# Step 3: Keyword Extraction using TF-IDF\n",
        "def get_keywords(text, num_keywords=5):\n",
        "    vectorizer = TfidfVectorizer(stop_words='english')\n",
        "    tfidf_matrix = vectorizer.fit_transform([text])\n",
        "    feature_names = vectorizer.get_feature_names_out()\n",
        "    scores = tfidf_matrix.toarray()[0]\n",
        "    top_indices = scores.argsort()[-num_keywords:][::-1]\n",
        "    top_keywords = [feature_names[i] for i in top_indices]\n",
        "    return top_keywords\n",
        "\n",
        "# Example Text Analysis\n",
        "def analyze_text(text):\n",
        "    preprocessed_text = preprocess_text(text)\n",
        "    sentiment = get_sentiment(preprocessed_text)\n",
        "    keywords = get_keywords(preprocessed_text)\n",
        "    return {\n",
        "        'original_text': text,\n",
        "        'preprocessed_text': preprocessed_text,\n",
        "        'sentiment': sentiment,\n",
        "        'keywords': keywords\n",
        "    }\n",
        "\n",
        "text = \"Prime Minister Narendra Modi officially opened the new campus of Nalanda University, situated in Rajgir, Bihar. The newly constructed campus will be located in close proximity to the ancient ruins of the original university. Prior to the inauguration ceremony, PM Modi took the opportunity to explore and observe the remnants of the historic Nalanda University.\"\n",
        "analysis = analyze_text(text)\n",
        "print(f\"Original Text: {analysis['original_text']}\")\n",
        "print(f\"Preprocessed Text: {analysis['preprocessed_text']}\")\n",
        "print(f\"Sentiment: {analysis['sentiment']}\")\n",
        "print(f\"Keywords: {analysis['keywords']}\")\n"
      ]
    },
    {
      "cell_type": "markdown",
      "source": [
        "ABUSIVE LANGUAGE DETECTION"
      ],
      "metadata": {
        "id": "J5IpLIAPgvqM"
      }
    },
    {
      "cell_type": "code",
      "source": [
        "from sklearn.model_selection import train_test_split\n",
        "from sklearn.feature_extraction.text import TfidfVectorizer\n",
        "from sklearn.svm import SVC\n",
        "from sklearn.metrics import accuracy_score, classification_report\n",
        "\n",
        "# Example dataset (replace with your own)\n",
        "texts = [\"You're an asshole!\", \"I love this place.\", \"Shut up, you moron.\", \"Great job!\"]\n",
        "\n",
        "# Labels (1 for abusive, 0 for non-abusive)\n",
        "labels = [1, 0, 1, 0]\n",
        "\n",
        "# Splitting the dataset\n",
        "X_train, X_test, y_train, y_test = train_test_split(texts, labels, test_size=0.2, random_state=42)\n",
        "\n",
        "# TF-IDF vectorization\n",
        "vectorizer = TfidfVectorizer(max_features=1000, lowercase=True, analyzer='word', stop_words='english')\n",
        "X_train_tfidf = vectorizer.fit_transform(X_train).toarray()\n",
        "X_test_tfidf = vectorizer.transform(X_test).toarray()\n",
        "\n",
        "# Training SVM model\n",
        "svm_model = SVC(kernel='linear')\n",
        "svm_model.fit(X_train_tfidf, y_train)\n",
        "\n",
        "# Predictions\n",
        "y_pred = svm_model.predict(X_test_tfidf)\n",
        "\n",
        "# Evaluation\n",
        "print(\"Accuracy:\", accuracy_score(y_test, y_pred))\n",
        "print(classification_report(y_test, y_pred))\n"
      ],
      "metadata": {
        "colab": {
          "base_uri": "https://localhost:8080/"
        },
        "id": "uJKuP8UDgy-k",
        "outputId": "78d54ed9-8fc3-47c5-f171-abf055028575"
      },
      "execution_count": null,
      "outputs": [
        {
          "output_type": "stream",
          "name": "stdout",
          "text": [
            "Accuracy: 0.0\n",
            "              precision    recall  f1-score   support\n",
            "\n",
            "           0       0.00      0.00      0.00       1.0\n",
            "           1       0.00      0.00      0.00       0.0\n",
            "\n",
            "    accuracy                           0.00       1.0\n",
            "   macro avg       0.00      0.00      0.00       1.0\n",
            "weighted avg       0.00      0.00      0.00       1.0\n",
            "\n"
          ]
        },
        {
          "output_type": "stream",
          "name": "stderr",
          "text": [
            "/usr/local/lib/python3.10/dist-packages/sklearn/metrics/_classification.py:1531: UndefinedMetricWarning: Precision is ill-defined and being set to 0.0 in labels with no predicted samples. Use `zero_division` parameter to control this behavior.\n",
            "  _warn_prf(average, modifier, f\"{metric.capitalize()} is\", len(result))\n",
            "/usr/local/lib/python3.10/dist-packages/sklearn/metrics/_classification.py:1531: UndefinedMetricWarning: Recall is ill-defined and being set to 0.0 in labels with no true samples. Use `zero_division` parameter to control this behavior.\n",
            "  _warn_prf(average, modifier, f\"{metric.capitalize()} is\", len(result))\n",
            "/usr/local/lib/python3.10/dist-packages/sklearn/metrics/_classification.py:1531: UndefinedMetricWarning: Precision is ill-defined and being set to 0.0 in labels with no predicted samples. Use `zero_division` parameter to control this behavior.\n",
            "  _warn_prf(average, modifier, f\"{metric.capitalize()} is\", len(result))\n",
            "/usr/local/lib/python3.10/dist-packages/sklearn/metrics/_classification.py:1531: UndefinedMetricWarning: Recall is ill-defined and being set to 0.0 in labels with no true samples. Use `zero_division` parameter to control this behavior.\n",
            "  _warn_prf(average, modifier, f\"{metric.capitalize()} is\", len(result))\n",
            "/usr/local/lib/python3.10/dist-packages/sklearn/metrics/_classification.py:1531: UndefinedMetricWarning: Precision is ill-defined and being set to 0.0 in labels with no predicted samples. Use `zero_division` parameter to control this behavior.\n",
            "  _warn_prf(average, modifier, f\"{metric.capitalize()} is\", len(result))\n",
            "/usr/local/lib/python3.10/dist-packages/sklearn/metrics/_classification.py:1531: UndefinedMetricWarning: Recall is ill-defined and being set to 0.0 in labels with no true samples. Use `zero_division` parameter to control this behavior.\n",
            "  _warn_prf(average, modifier, f\"{metric.capitalize()} is\", len(result))\n"
          ]
        }
      ]
    },
    {
      "cell_type": "code",
      "source": [
        "import pandas as pd\n",
        "from sklearn.feature_extraction.text import TfidfVectorizer\n",
        "from sklearn.linear_model import LogisticRegression\n",
        "from sklearn.model_selection import train_test_split\n",
        "from sklearn.metrics import accuracy_score, classification_report\n",
        "\n",
        "# Sample dataset (replace this with your actual dataset)\n",
        "data = pd.DataFrame({\n",
        "    'text': [\n",
        "        \"You are an asshole\",\n",
        "        \"You are a good person\",\n",
        "        \"This is a beautiful photo\",\n",
        "        \"Nude photos are inappropriate\",\n",
        "        \"I hate you\",\n",
        "        \"Let's be friends\"\n",
        "    ],\n",
        "    'label': [1, 0, 0, 1, 1, 0]  # 1: abusive/nudity, 0: not abusive\n",
        "})\n",
        "\n",
        "# Splitting the dataset with stratification\n",
        "X_train, X_test, y_train, y_test = train_test_split(data['text'], data['label'], test_size=0.2, random_state=42, stratify=data['label'])\n",
        "\n",
        "# TF-IDF vectorization\n",
        "vectorizer = TfidfVectorizer(max_features=1000, lowercase=True, analyzer='word', stop_words='english')\n",
        "X_train_tfidf = vectorizer.fit_transform(X_train)\n",
        "X_test_tfidf = vectorizer.transform(X_test)\n",
        "\n",
        "# Train a simple logistic regression model\n",
        "model = LogisticRegression()\n",
        "model.fit(X_train_tfidf, y_train)\n",
        "\n",
        "# Predict using the test set\n",
        "y_pred = model.predict(X_test_tfidf)\n",
        "\n",
        "# Evaluation\n",
        "print(\"Accuracy:\", accuracy_score(y_test, y_pred))\n",
        "print(classification_report(y_test, y_pred))\n"
      ],
      "metadata": {
        "colab": {
          "base_uri": "https://localhost:8080/"
        },
        "id": "VNNkDey7g0lC",
        "outputId": "b54ed295-0e8c-4b40-f41c-46cdc9c9e59e"
      },
      "execution_count": null,
      "outputs": [
        {
          "output_type": "stream",
          "name": "stdout",
          "text": [
            "Accuracy: 0.5\n",
            "              precision    recall  f1-score   support\n",
            "\n",
            "           0       0.00      0.00      0.00         1\n",
            "           1       0.50      1.00      0.67         1\n",
            "\n",
            "    accuracy                           0.50         2\n",
            "   macro avg       0.25      0.50      0.33         2\n",
            "weighted avg       0.25      0.50      0.33         2\n",
            "\n"
          ]
        },
        {
          "output_type": "stream",
          "name": "stderr",
          "text": [
            "/usr/local/lib/python3.10/dist-packages/sklearn/metrics/_classification.py:1531: UndefinedMetricWarning: Precision is ill-defined and being set to 0.0 in labels with no predicted samples. Use `zero_division` parameter to control this behavior.\n",
            "  _warn_prf(average, modifier, f\"{metric.capitalize()} is\", len(result))\n",
            "/usr/local/lib/python3.10/dist-packages/sklearn/metrics/_classification.py:1531: UndefinedMetricWarning: Precision is ill-defined and being set to 0.0 in labels with no predicted samples. Use `zero_division` parameter to control this behavior.\n",
            "  _warn_prf(average, modifier, f\"{metric.capitalize()} is\", len(result))\n",
            "/usr/local/lib/python3.10/dist-packages/sklearn/metrics/_classification.py:1531: UndefinedMetricWarning: Precision is ill-defined and being set to 0.0 in labels with no predicted samples. Use `zero_division` parameter to control this behavior.\n",
            "  _warn_prf(average, modifier, f\"{metric.capitalize()} is\", len(result))\n"
          ]
        }
      ]
    },
    {
      "cell_type": "code",
      "source": [
        "pip install profanity-check"
      ],
      "metadata": {
        "colab": {
          "base_uri": "https://localhost:8080/"
        },
        "id": "lvEgOe_shDF_",
        "outputId": "d48e5b93-ef3b-47a7-cb28-8d4837c401b7"
      },
      "execution_count": null,
      "outputs": [
        {
          "output_type": "stream",
          "name": "stdout",
          "text": [
            "Collecting profanity-check\n",
            "  Downloading profanity_check-1.0.3-py3-none-any.whl.metadata (6.2 kB)\n",
            "Requirement already satisfied: scikit-learn>=0.20.2 in /usr/local/lib/python3.10/dist-packages (from profanity-check) (1.5.2)\n",
            "Requirement already satisfied: numpy>=1.19.5 in /usr/local/lib/python3.10/dist-packages (from scikit-learn>=0.20.2->profanity-check) (1.26.4)\n",
            "Requirement already satisfied: scipy>=1.6.0 in /usr/local/lib/python3.10/dist-packages (from scikit-learn>=0.20.2->profanity-check) (1.13.1)\n",
            "Requirement already satisfied: joblib>=1.2.0 in /usr/local/lib/python3.10/dist-packages (from scikit-learn>=0.20.2->profanity-check) (1.4.2)\n",
            "Requirement already satisfied: threadpoolctl>=3.1.0 in /usr/local/lib/python3.10/dist-packages (from scikit-learn>=0.20.2->profanity-check) (3.5.0)\n",
            "Downloading profanity_check-1.0.3-py3-none-any.whl (2.4 MB)\n",
            "\u001b[2K   \u001b[90m━━━━━━━━━━━━━━━━━━━━━━━━━━━━━━━━━━━━━━━━\u001b[0m \u001b[32m2.4/2.4 MB\u001b[0m \u001b[31m20.2 MB/s\u001b[0m eta \u001b[36m0:00:00\u001b[0m\n",
            "\u001b[?25hInstalling collected packages: profanity-check\n",
            "Successfully installed profanity-check-1.0.3\n"
          ]
        }
      ]
    },
    {
      "cell_type": "code",
      "source": [
        "pip install better_profanity"
      ],
      "metadata": {
        "colab": {
          "base_uri": "https://localhost:8080/"
        },
        "id": "_4UZmunWhMmb",
        "outputId": "1557c9ee-88fe-4aa9-e6bb-89bed34f8e2d"
      },
      "execution_count": null,
      "outputs": [
        {
          "output_type": "stream",
          "name": "stdout",
          "text": [
            "Collecting better_profanity\n",
            "  Downloading better_profanity-0.7.0-py3-none-any.whl.metadata (7.1 kB)\n",
            "Downloading better_profanity-0.7.0-py3-none-any.whl (46 kB)\n",
            "\u001b[?25l   \u001b[90m━━━━━━━━━━━━━━━━━━━━━━━━━━━━━━━━━━━━━━━━\u001b[0m \u001b[32m0.0/46.1 kB\u001b[0m \u001b[31m?\u001b[0m eta \u001b[36m-:--:--\u001b[0m\r\u001b[2K   \u001b[90m━━━━━━━━━━━━━━━━━━━━━━━━━━━━━━━━━━━━━━━━\u001b[0m \u001b[32m46.1/46.1 kB\u001b[0m \u001b[31m2.2 MB/s\u001b[0m eta \u001b[36m0:00:00\u001b[0m\n",
            "\u001b[?25hInstalling collected packages: better_profanity\n",
            "Successfully installed better_profanity-0.7.0\n"
          ]
        }
      ]
    },
    {
      "cell_type": "code",
      "source": [
        "from better_profanity import profanity\n",
        "\n",
        "# Example texts\n",
        "texts = [\"You are a good guy.\",\n",
        "    \"You are an asshole\",\n",
        "    \"Fuck you dumbass\"\n",
        "    ]\n",
        "\n",
        "\n",
        "# Check each text for profanity\n",
        "for text in texts:\n",
        "    contains_abusive_words = profanity.contains_profanity(text)\n",
        "    censored_text = profanity.censor(text)\n",
        "\n",
        "    print(f\"Original Text: {text}\")\n",
        "    print(f\"Contains Abusive Words: {'Yes' if contains_abusive_words else 'No'}\")\n",
        "    print(f\"Censored Text: {censored_text}\")\n",
        "    print()\n"
      ],
      "metadata": {
        "colab": {
          "base_uri": "https://localhost:8080/"
        },
        "id": "ONtmT0PGg7Us",
        "outputId": "c47703ca-ae44-47db-edbc-16a7858a2f39"
      },
      "execution_count": null,
      "outputs": [
        {
          "output_type": "stream",
          "name": "stdout",
          "text": [
            "Original Text: You are a good guy.\n",
            "Contains Abusive Words: No\n",
            "Censored Text: You are a good guy.\n",
            "\n",
            "Original Text: You are an asshole\n",
            "Contains Abusive Words: Yes\n",
            "Censored Text: You are an ****\n",
            "\n",
            "Original Text: Fuck you dumbass\n",
            "Contains Abusive Words: Yes\n",
            "Censored Text: **** you ****\n",
            "\n"
          ]
        }
      ]
    },
    {
      "cell_type": "code",
      "source": [
        "from better_profanity import profanity\n",
        "\n",
        "# Example texts\n",
        "texts = [\n",
        "    \"You are a good guy.\",\n",
        "    \"You are an asshole\",\n",
        "    \"Fuck you dumbass\",\n",
        "    \"Go to hell\"\n",
        "]\n",
        "\n",
        "profane_words_list = [\"asshole\", \"fuck\", \"dumbass\"]\n",
        "\n",
        "def check_abusive_words(text, profane_words_list):\n",
        "    abusive_words_found = [word for word in profane_words_list if word.lower() in text.lower()]\n",
        "    return abusive_words_found\n",
        "\n",
        "# Check each text for profanity\n",
        "for text in texts:\n",
        "    contains_abusive_words = profanity.contains_profanity(text)\n",
        "    censored_text = profanity.censor(text)\n",
        "    abusive_words_found = check_abusive_words(text, profane_words_list)\n",
        "\n",
        "    print(f\"Original Text: {text}\")\n",
        "    print(f\"Contains Abusive Words: {'Yes' if contains_abusive_words else 'No'}\")\n",
        "    print(f\"Censored Text: {censored_text}\")\n",
        "    print(f\"Abusive Words: {', '.join(abusive_words_found) if abusive_words_found else 'None'}\")\n",
        "    print()\n"
      ],
      "metadata": {
        "colab": {
          "base_uri": "https://localhost:8080/"
        },
        "id": "--HOgBqPhJhu",
        "outputId": "dd21ae9a-3fb5-40c5-ad30-4ab55a8e77ca"
      },
      "execution_count": null,
      "outputs": [
        {
          "output_type": "stream",
          "name": "stdout",
          "text": [
            "Original Text: You are a good guy.\n",
            "Contains Abusive Words: No\n",
            "Censored Text: You are a good guy.\n",
            "Abusive Words: None\n",
            "\n",
            "Original Text: You are an asshole\n",
            "Contains Abusive Words: Yes\n",
            "Censored Text: You are an ****\n",
            "Abusive Words: asshole\n",
            "\n",
            "Original Text: Fuck you dumbass\n",
            "Contains Abusive Words: Yes\n",
            "Censored Text: **** you ****\n",
            "Abusive Words: fuck, dumbass\n",
            "\n",
            "Original Text: Go to hell\n",
            "Contains Abusive Words: Yes\n",
            "Censored Text: Go to ****\n",
            "Abusive Words: None\n",
            "\n"
          ]
        }
      ]
    },
    {
      "cell_type": "markdown",
      "source": [
        "NUDITY DETECTION"
      ],
      "metadata": {
        "id": "B749tKzBhZmU"
      }
    },
    {
      "cell_type": "code",
      "source": [
        "import re\n",
        "\n",
        "# List of explicit keywords\n",
        "explicit_keywords = [\"nude\", \"naked\", \"sex\", \"porn\", \"xxx\", \"sexy\", \"fuck\"]\n",
        "\n",
        "def preprocess(text):\n",
        "    text = text.lower()\n",
        "    text = re.sub(r'\\W', ' ', text)\n",
        "    text = re.sub(r'\\s+', ' ', text)\n",
        "    return text\n",
        "\n",
        "def contains_explicit_words(text, keywords):\n",
        "    words = text.split()\n",
        "    for word in words:\n",
        "        if word in keywords:\n",
        "            return True\n",
        "    return False\n",
        "\n",
        "def censor_text(text, keywords):\n",
        "    words = text.split()\n",
        "    censored_words = [word if word not in keywords else '*' * len(word) for word in words]\n",
        "    return ' '.join(censored_words)\n",
        "\n",
        "def check_text_for_nudity(texts, keywords):\n",
        "    for text in texts:\n",
        "        processed_text = preprocess(text)\n",
        "        contains_nudity_words = contains_explicit_words(processed_text, keywords)\n",
        "        censored_text = censor_text(processed_text, keywords)\n",
        "\n",
        "        print(f\"Original Text: {text}\")\n",
        "        print(f\"Contains Nudity Words: {'Yes' if contains_nudity_words else 'No'}\")\n",
        "        print(f\"Censored Text: {censored_text}\")\n",
        "        print()\n",
        "\n",
        "# Sample texts\n",
        "texts = [\"This is a nude photo\", \"Hello, how are you?\", \"Check out this sexy video\", \"Who the fuck are you ?\"]\n",
        "\n",
        "# Check each text for nudity\n",
        "check_text_for_nudity(texts, explicit_keywords)\n"
      ],
      "metadata": {
        "colab": {
          "base_uri": "https://localhost:8080/"
        },
        "id": "wMxfC3qRhcKQ",
        "outputId": "e1cade5b-dc89-4e13-b3a0-620c312a447c"
      },
      "execution_count": null,
      "outputs": [
        {
          "output_type": "stream",
          "name": "stdout",
          "text": [
            "Original Text: This is a nude photo\n",
            "Contains Nudity Words: Yes\n",
            "Censored Text: this is a **** photo\n",
            "\n",
            "Original Text: Hello, how are you?\n",
            "Contains Nudity Words: No\n",
            "Censored Text: hello how are you\n",
            "\n",
            "Original Text: Check out this sexy video\n",
            "Contains Nudity Words: Yes\n",
            "Censored Text: check out this **** video\n",
            "\n",
            "Original Text: Who the fuck are you ?\n",
            "Contains Nudity Words: Yes\n",
            "Censored Text: who the **** are you\n",
            "\n"
          ]
        }
      ]
    },
    {
      "cell_type": "code",
      "source": [
        "from transformers import pipeline\n",
        "\n",
        "# Load a pre-trained model from Hugging Face\n",
        "classifier = pipeline('text-classification', model='unitary/toxic-bert')\n",
        "\n",
        "# Sample texts\n",
        "texts = [\"This is a nude photo\", \"Hello, how are you?\", \"Check out this sexy video\"]\n",
        "\n",
        "# Function to censor text based on the presence of explicit content\n",
        "def censor_text(text, keywords):\n",
        "    words = text.split()\n",
        "    censored_words = [word if word.lower() not in keywords else '*' * len(word) for word in words]\n",
        "    return ' '.join(censored_words)\n",
        "\n",
        "# Check each text for nudity\n",
        "for text in texts:\n",
        "    result = classifier(text)\n",
        "    contains_nudity_words = any(r['label'] == 'toxic' and r['score'] > 0.5 for r in result)\n",
        "    censored_text = censor_text(text, [r['label'] for r in result if r['label'] == 'toxic' and r['score'] > 0.5])\n",
        "    print(f\"Original Text: {text}\")\n",
        "    print(f\"Contains Nudity Words: {'Yes' if contains_nudity_words else 'No'}\")\n",
        "    print(f\"Censored Text: {censored_text}\")\n",
        "    print()\n"
      ],
      "metadata": {
        "colab": {
          "base_uri": "https://localhost:8080/",
          "height": 544,
          "referenced_widgets": [
            "4a81bb7c688d491981eb5aff0177d10b",
            "8838b3b2bf874f109c61c45c31ac4a80",
            "b0fa68a2fe0b420d86578d9abd023079",
            "fa4b1c18420c45ac8dead4e6cfa276d2",
            "d2eb20c9bb4e43f49e91e59e863a0df7",
            "aea10e132e75484f996e42c21741c169",
            "c8e96923f3cf478e9d4810842a2f941c",
            "d5a093cc2d6a4a3681b1260c92f878d3",
            "221eb6486d444dfa94a00c1afde773c3",
            "e98bd4a19cd344fea536b4ecd86f5f11",
            "517db87d2bac4d5ca2b9707cef11dd19",
            "ac62ab44152645e2a8dd471b8547be39",
            "4f27fc8f31e84195ab00a71e0202b4a6",
            "3572f606442d4161b897ff8aa8122d68",
            "cbdc78fc9dc44feaa0ad80487cf87b62",
            "3c9f4a72791c4ba69366e5971fc72d63",
            "4bae4dafbbf24f38a6ef89dcd8ce2019",
            "15a4732f764e47deb5c309c0e091cb30",
            "9068fbbb6f094f8fba30513fbec420ac",
            "0d7a88ccb5874eb19a6d23584e24088a",
            "2cc47565bdf04cf28a6b7b90360ce2fc",
            "be279084e0964e55b6c1720c1880d66b",
            "947fcd1eba77476abab74ae4ac0a3c8d",
            "657b0f2627524c5a944550a78b5688b3",
            "68a7504b95b4443eadb8d5e435698f93",
            "28d954e2b14243a7abf467fee3e02da5",
            "da7a731f9cc444678c0c9b8f804d2dc3",
            "eb13b3733c8344fabd85f445ab37c221",
            "08685edd43594de992df487721f27a2a",
            "1c69e3ee88cb4464a4fe12471e991d49",
            "17997dd3a22a41568fae57c0a1566c16",
            "0a9d57fc274d452ba59d864a0d2fc583",
            "3fa2e216bfb24c948393d9bc91f00796",
            "fac1300034d74fe195d26f79fccc126f",
            "2f2068a47131481ab9f1c47f5a5fa82a",
            "e38002edee8f4a02b2487f9144e5c7e3",
            "d994a830501d46e1b5a2cf30ceb375a1",
            "77a54fe982354b319b34661c155b285f",
            "8a9f3e9918264edcbb88b4b642b340a0",
            "172a359d4412490e9249f55c0b5134cd",
            "335a3a422a91414ebc521186613d0eae",
            "fa8885616cb74852885bd7d6e28e5985",
            "afc3bef9b0a3492d80772eff3bc36a40",
            "3d799cf707524092be94a7a1992a724b",
            "f3b9ee0be27246e3b43efb5a981caff3",
            "6d54744bee15449e8921226eab726805",
            "0b428f739f36482ba015c0e4c10771c4",
            "112a830b4b644215855f46d547dff2ab",
            "5919c524118c48c0a773f3722d88b374",
            "913e9212c1304e0895eae6299e532529",
            "91a586ffdd494c54a47ba074d157374d",
            "88caee919f7e4b1494820b9379984bf5",
            "eba4e70d35684a069ec6a945c8c51f4a",
            "acbfc8630d9a435cb1620821c1216bb4",
            "d2b4613826b349f994eed730e920c7ea"
          ]
        },
        "id": "3qh3qq5phfar",
        "outputId": "fc021c90-4b21-4689-c0ad-a07528d615aa"
      },
      "execution_count": null,
      "outputs": [
        {
          "output_type": "stream",
          "name": "stderr",
          "text": [
            "/usr/local/lib/python3.10/dist-packages/huggingface_hub/utils/_token.py:89: UserWarning: \n",
            "The secret `HF_TOKEN` does not exist in your Colab secrets.\n",
            "To authenticate with the Hugging Face Hub, create a token in your settings tab (https://huggingface.co/settings/tokens), set it as secret in your Google Colab and restart your session.\n",
            "You will be able to reuse this secret in all of your notebooks.\n",
            "Please note that authentication is recommended but still optional to access public models or datasets.\n",
            "  warnings.warn(\n"
          ]
        },
        {
          "output_type": "display_data",
          "data": {
            "text/plain": [
              "config.json:   0%|          | 0.00/811 [00:00<?, ?B/s]"
            ],
            "application/vnd.jupyter.widget-view+json": {
              "version_major": 2,
              "version_minor": 0,
              "model_id": "4a81bb7c688d491981eb5aff0177d10b"
            }
          },
          "metadata": {}
        },
        {
          "output_type": "display_data",
          "data": {
            "text/plain": [
              "model.safetensors:   0%|          | 0.00/438M [00:00<?, ?B/s]"
            ],
            "application/vnd.jupyter.widget-view+json": {
              "version_major": 2,
              "version_minor": 0,
              "model_id": "ac62ab44152645e2a8dd471b8547be39"
            }
          },
          "metadata": {}
        },
        {
          "output_type": "display_data",
          "data": {
            "text/plain": [
              "tokenizer_config.json:   0%|          | 0.00/174 [00:00<?, ?B/s]"
            ],
            "application/vnd.jupyter.widget-view+json": {
              "version_major": 2,
              "version_minor": 0,
              "model_id": "947fcd1eba77476abab74ae4ac0a3c8d"
            }
          },
          "metadata": {}
        },
        {
          "output_type": "display_data",
          "data": {
            "text/plain": [
              "vocab.txt:   0%|          | 0.00/232k [00:00<?, ?B/s]"
            ],
            "application/vnd.jupyter.widget-view+json": {
              "version_major": 2,
              "version_minor": 0,
              "model_id": "fac1300034d74fe195d26f79fccc126f"
            }
          },
          "metadata": {}
        },
        {
          "output_type": "display_data",
          "data": {
            "text/plain": [
              "special_tokens_map.json:   0%|          | 0.00/112 [00:00<?, ?B/s]"
            ],
            "application/vnd.jupyter.widget-view+json": {
              "version_major": 2,
              "version_minor": 0,
              "model_id": "f3b9ee0be27246e3b43efb5a981caff3"
            }
          },
          "metadata": {}
        },
        {
          "output_type": "stream",
          "name": "stderr",
          "text": [
            "/usr/local/lib/python3.10/dist-packages/transformers/tokenization_utils_base.py:1601: FutureWarning: `clean_up_tokenization_spaces` was not set. It will be set to `True` by default. This behavior will be depracted in transformers v4.45, and will be then set to `False` by default. For more details check this issue: https://github.com/huggingface/transformers/issues/31884\n",
            "  warnings.warn(\n"
          ]
        },
        {
          "output_type": "stream",
          "name": "stdout",
          "text": [
            "Original Text: This is a nude photo\n",
            "Contains Nudity Words: No\n",
            "Censored Text: This is a nude photo\n",
            "\n",
            "Original Text: Hello, how are you?\n",
            "Contains Nudity Words: No\n",
            "Censored Text: Hello, how are you?\n",
            "\n",
            "Original Text: Check out this sexy video\n",
            "Contains Nudity Words: No\n",
            "Censored Text: Check out this sexy video\n",
            "\n"
          ]
        }
      ]
    },
    {
      "cell_type": "code",
      "source": [
        "from transformers import pipeline\n",
        "\n",
        "# Load a pre-trained model from Hugging Face\n",
        "classifier = pipeline('text-classification', model='unitary/toxic-bert')\n",
        "\n",
        "# Sample texts\n",
        "texts = [\"This is a nude photo\", \"Hello, how are you?\", \"Check out this sex video\", \"This is a regular text.\"]\n",
        "\n",
        "# Function to censor text based on the model's classification\n",
        "def censor_text(text):\n",
        "    words = text.split()\n",
        "    censored_words = ['*' * len(word) if classifier(word)[0]['label'] == 'toxic' and classifier(word)[0]['score'] > 0.5 else word for word in words]\n",
        "    return ' '.join(censored_words)\n",
        "\n",
        "# Check each text for explicit content\n",
        "for text in texts:\n",
        "    result = classifier(text)\n",
        "    contains_nudity_words = any(r['label'] == 'toxic' and r['score'] > 0.5 for r in result)\n",
        "    censored_text = censor_text(text)\n",
        "    print(f\"Original Text: {text}\")\n",
        "    print(f\"Contains Nudity Words: {'Yes' if contains_nudity_words else 'No'}\")\n",
        "    print(f\"Censored Text: {censored_text}\")\n",
        "    print()\n"
      ],
      "metadata": {
        "colab": {
          "base_uri": "https://localhost:8080/"
        },
        "id": "9piVLxm9hhmV",
        "outputId": "b960e048-a4f9-4cf8-bcec-3974fd8572b7"
      },
      "execution_count": null,
      "outputs": [
        {
          "output_type": "stream",
          "name": "stdout",
          "text": [
            "Original Text: This is a nude photo\n",
            "Contains Nudity Words: No\n",
            "Censored Text: This is a **** photo\n",
            "\n",
            "Original Text: Hello, how are you?\n",
            "Contains Nudity Words: No\n",
            "Censored Text: Hello, how are you?\n",
            "\n",
            "Original Text: Check out this sex video\n",
            "Contains Nudity Words: Yes\n",
            "Censored Text: Check out this *** video\n",
            "\n",
            "Original Text: This is a regular text.\n",
            "Contains Nudity Words: No\n",
            "Censored Text: This is a regular text.\n",
            "\n"
          ]
        }
      ]
    },
    {
      "cell_type": "code",
      "source": [
        "from transformers import pipeline\n",
        "\n",
        "# Load a pre-trained model from Hugging Face\n",
        "classifier = pipeline('text-classification', model='unitary/toxic-bert')\n",
        "\n",
        "# Sample texts\n",
        "texts = [\n",
        "    \"This is a nude photo\",\n",
        "    \"Hello, how are you?\",\n",
        "    \"Check out this sexy video\",\n",
        "    \"He fucks you\",\n",
        "    \"This is the case of Rape.\"\n",
        "]\n",
        "\n",
        "# Function to process text and identify explicit words based on the model's classification\n",
        "def process_text(text):\n",
        "    words = text.split()\n",
        "    flagged_words = [word for word in words if classifier(word)[0]['label'] == 'toxic' and classifier(word)[0]['score'] > 0.5]\n",
        "    censored_words = ['*' * len(word) if word in flagged_words else word for word in words]\n",
        "    censored_text = ' '.join(censored_words)\n",
        "    return flagged_words, censored_text\n",
        "\n",
        "# Check each text for explicit content and display results\n",
        "for text in texts:\n",
        "    flagged_words, censored_text = process_text(text)\n",
        "    contains_nudity_words = bool(flagged_words)\n",
        "    print(f\"Original Text: {text}\")\n",
        "    print(f\"Contains Nudity Words: {'Yes' if contains_nudity_words else 'No'}\")\n",
        "    print(f\"Detected Explicit Words: {', '.join(flagged_words) if flagged_words else 'None'}\")\n",
        "    print(f\"Censored Text: {censored_text}\")\n",
        "    print()\n"
      ],
      "metadata": {
        "colab": {
          "base_uri": "https://localhost:8080/"
        },
        "id": "PhRLP63qhsmn",
        "outputId": "c17e1246-82a2-4484-de7a-aa3d3a244db1"
      },
      "execution_count": null,
      "outputs": [
        {
          "output_type": "stream",
          "name": "stdout",
          "text": [
            "Original Text: This is a nude photo\n",
            "Contains Nudity Words: Yes\n",
            "Detected Explicit Words: nude\n",
            "Censored Text: This is a **** photo\n",
            "\n",
            "Original Text: Hello, how are you?\n",
            "Contains Nudity Words: No\n",
            "Detected Explicit Words: None\n",
            "Censored Text: Hello, how are you?\n",
            "\n",
            "Original Text: Check out this sexy video\n",
            "Contains Nudity Words: No\n",
            "Detected Explicit Words: None\n",
            "Censored Text: Check out this sexy video\n",
            "\n",
            "Original Text: He fucks you\n",
            "Contains Nudity Words: Yes\n",
            "Detected Explicit Words: fucks\n",
            "Censored Text: He ***** you\n",
            "\n",
            "Original Text: Watch out this porn video.\n",
            "Contains Nudity Words: Yes\n",
            "Detected Explicit Words: porn\n",
            "Censored Text: Watch out this **** video.\n",
            "\n",
            "Original Text: This is the case of Rape.\n",
            "Contains Nudity Words: Yes\n",
            "Detected Explicit Words: Rape.\n",
            "Censored Text: This is the case of *****\n",
            "\n"
          ]
        }
      ]
    },
    {
      "cell_type": "code",
      "source": [],
      "metadata": {
        "id": "52zcbFsqhx20"
      },
      "execution_count": null,
      "outputs": []
    }
  ],
  "metadata": {
    "kernelspec": {
      "display_name": "Python 3",
      "language": "python",
      "name": "python3"
    },
    "language_info": {
      "codemirror_mode": {
        "name": "ipython",
        "version": 3
      },
      "file_extension": ".py",
      "mimetype": "text/x-python",
      "name": "python",
      "nbconvert_exporter": "python",
      "pygments_lexer": "ipython3",
      "version": "3.10.11"
    },
    "colab": {
      "provenance": []
    },
    "widgets": {
      "application/vnd.jupyter.widget-state+json": {
        "4a81bb7c688d491981eb5aff0177d10b": {
          "model_module": "@jupyter-widgets/controls",
          "model_name": "HBoxModel",
          "model_module_version": "1.5.0",
          "state": {
            "_dom_classes": [],
            "_model_module": "@jupyter-widgets/controls",
            "_model_module_version": "1.5.0",
            "_model_name": "HBoxModel",
            "_view_count": null,
            "_view_module": "@jupyter-widgets/controls",
            "_view_module_version": "1.5.0",
            "_view_name": "HBoxView",
            "box_style": "",
            "children": [
              "IPY_MODEL_8838b3b2bf874f109c61c45c31ac4a80",
              "IPY_MODEL_b0fa68a2fe0b420d86578d9abd023079",
              "IPY_MODEL_fa4b1c18420c45ac8dead4e6cfa276d2"
            ],
            "layout": "IPY_MODEL_d2eb20c9bb4e43f49e91e59e863a0df7"
          }
        },
        "8838b3b2bf874f109c61c45c31ac4a80": {
          "model_module": "@jupyter-widgets/controls",
          "model_name": "HTMLModel",
          "model_module_version": "1.5.0",
          "state": {
            "_dom_classes": [],
            "_model_module": "@jupyter-widgets/controls",
            "_model_module_version": "1.5.0",
            "_model_name": "HTMLModel",
            "_view_count": null,
            "_view_module": "@jupyter-widgets/controls",
            "_view_module_version": "1.5.0",
            "_view_name": "HTMLView",
            "description": "",
            "description_tooltip": null,
            "layout": "IPY_MODEL_aea10e132e75484f996e42c21741c169",
            "placeholder": "​",
            "style": "IPY_MODEL_c8e96923f3cf478e9d4810842a2f941c",
            "value": "config.json: 100%"
          }
        },
        "b0fa68a2fe0b420d86578d9abd023079": {
          "model_module": "@jupyter-widgets/controls",
          "model_name": "FloatProgressModel",
          "model_module_version": "1.5.0",
          "state": {
            "_dom_classes": [],
            "_model_module": "@jupyter-widgets/controls",
            "_model_module_version": "1.5.0",
            "_model_name": "FloatProgressModel",
            "_view_count": null,
            "_view_module": "@jupyter-widgets/controls",
            "_view_module_version": "1.5.0",
            "_view_name": "ProgressView",
            "bar_style": "success",
            "description": "",
            "description_tooltip": null,
            "layout": "IPY_MODEL_d5a093cc2d6a4a3681b1260c92f878d3",
            "max": 811,
            "min": 0,
            "orientation": "horizontal",
            "style": "IPY_MODEL_221eb6486d444dfa94a00c1afde773c3",
            "value": 811
          }
        },
        "fa4b1c18420c45ac8dead4e6cfa276d2": {
          "model_module": "@jupyter-widgets/controls",
          "model_name": "HTMLModel",
          "model_module_version": "1.5.0",
          "state": {
            "_dom_classes": [],
            "_model_module": "@jupyter-widgets/controls",
            "_model_module_version": "1.5.0",
            "_model_name": "HTMLModel",
            "_view_count": null,
            "_view_module": "@jupyter-widgets/controls",
            "_view_module_version": "1.5.0",
            "_view_name": "HTMLView",
            "description": "",
            "description_tooltip": null,
            "layout": "IPY_MODEL_e98bd4a19cd344fea536b4ecd86f5f11",
            "placeholder": "​",
            "style": "IPY_MODEL_517db87d2bac4d5ca2b9707cef11dd19",
            "value": " 811/811 [00:00&lt;00:00, 50.0kB/s]"
          }
        },
        "d2eb20c9bb4e43f49e91e59e863a0df7": {
          "model_module": "@jupyter-widgets/base",
          "model_name": "LayoutModel",
          "model_module_version": "1.2.0",
          "state": {
            "_model_module": "@jupyter-widgets/base",
            "_model_module_version": "1.2.0",
            "_model_name": "LayoutModel",
            "_view_count": null,
            "_view_module": "@jupyter-widgets/base",
            "_view_module_version": "1.2.0",
            "_view_name": "LayoutView",
            "align_content": null,
            "align_items": null,
            "align_self": null,
            "border": null,
            "bottom": null,
            "display": null,
            "flex": null,
            "flex_flow": null,
            "grid_area": null,
            "grid_auto_columns": null,
            "grid_auto_flow": null,
            "grid_auto_rows": null,
            "grid_column": null,
            "grid_gap": null,
            "grid_row": null,
            "grid_template_areas": null,
            "grid_template_columns": null,
            "grid_template_rows": null,
            "height": null,
            "justify_content": null,
            "justify_items": null,
            "left": null,
            "margin": null,
            "max_height": null,
            "max_width": null,
            "min_height": null,
            "min_width": null,
            "object_fit": null,
            "object_position": null,
            "order": null,
            "overflow": null,
            "overflow_x": null,
            "overflow_y": null,
            "padding": null,
            "right": null,
            "top": null,
            "visibility": null,
            "width": null
          }
        },
        "aea10e132e75484f996e42c21741c169": {
          "model_module": "@jupyter-widgets/base",
          "model_name": "LayoutModel",
          "model_module_version": "1.2.0",
          "state": {
            "_model_module": "@jupyter-widgets/base",
            "_model_module_version": "1.2.0",
            "_model_name": "LayoutModel",
            "_view_count": null,
            "_view_module": "@jupyter-widgets/base",
            "_view_module_version": "1.2.0",
            "_view_name": "LayoutView",
            "align_content": null,
            "align_items": null,
            "align_self": null,
            "border": null,
            "bottom": null,
            "display": null,
            "flex": null,
            "flex_flow": null,
            "grid_area": null,
            "grid_auto_columns": null,
            "grid_auto_flow": null,
            "grid_auto_rows": null,
            "grid_column": null,
            "grid_gap": null,
            "grid_row": null,
            "grid_template_areas": null,
            "grid_template_columns": null,
            "grid_template_rows": null,
            "height": null,
            "justify_content": null,
            "justify_items": null,
            "left": null,
            "margin": null,
            "max_height": null,
            "max_width": null,
            "min_height": null,
            "min_width": null,
            "object_fit": null,
            "object_position": null,
            "order": null,
            "overflow": null,
            "overflow_x": null,
            "overflow_y": null,
            "padding": null,
            "right": null,
            "top": null,
            "visibility": null,
            "width": null
          }
        },
        "c8e96923f3cf478e9d4810842a2f941c": {
          "model_module": "@jupyter-widgets/controls",
          "model_name": "DescriptionStyleModel",
          "model_module_version": "1.5.0",
          "state": {
            "_model_module": "@jupyter-widgets/controls",
            "_model_module_version": "1.5.0",
            "_model_name": "DescriptionStyleModel",
            "_view_count": null,
            "_view_module": "@jupyter-widgets/base",
            "_view_module_version": "1.2.0",
            "_view_name": "StyleView",
            "description_width": ""
          }
        },
        "d5a093cc2d6a4a3681b1260c92f878d3": {
          "model_module": "@jupyter-widgets/base",
          "model_name": "LayoutModel",
          "model_module_version": "1.2.0",
          "state": {
            "_model_module": "@jupyter-widgets/base",
            "_model_module_version": "1.2.0",
            "_model_name": "LayoutModel",
            "_view_count": null,
            "_view_module": "@jupyter-widgets/base",
            "_view_module_version": "1.2.0",
            "_view_name": "LayoutView",
            "align_content": null,
            "align_items": null,
            "align_self": null,
            "border": null,
            "bottom": null,
            "display": null,
            "flex": null,
            "flex_flow": null,
            "grid_area": null,
            "grid_auto_columns": null,
            "grid_auto_flow": null,
            "grid_auto_rows": null,
            "grid_column": null,
            "grid_gap": null,
            "grid_row": null,
            "grid_template_areas": null,
            "grid_template_columns": null,
            "grid_template_rows": null,
            "height": null,
            "justify_content": null,
            "justify_items": null,
            "left": null,
            "margin": null,
            "max_height": null,
            "max_width": null,
            "min_height": null,
            "min_width": null,
            "object_fit": null,
            "object_position": null,
            "order": null,
            "overflow": null,
            "overflow_x": null,
            "overflow_y": null,
            "padding": null,
            "right": null,
            "top": null,
            "visibility": null,
            "width": null
          }
        },
        "221eb6486d444dfa94a00c1afde773c3": {
          "model_module": "@jupyter-widgets/controls",
          "model_name": "ProgressStyleModel",
          "model_module_version": "1.5.0",
          "state": {
            "_model_module": "@jupyter-widgets/controls",
            "_model_module_version": "1.5.0",
            "_model_name": "ProgressStyleModel",
            "_view_count": null,
            "_view_module": "@jupyter-widgets/base",
            "_view_module_version": "1.2.0",
            "_view_name": "StyleView",
            "bar_color": null,
            "description_width": ""
          }
        },
        "e98bd4a19cd344fea536b4ecd86f5f11": {
          "model_module": "@jupyter-widgets/base",
          "model_name": "LayoutModel",
          "model_module_version": "1.2.0",
          "state": {
            "_model_module": "@jupyter-widgets/base",
            "_model_module_version": "1.2.0",
            "_model_name": "LayoutModel",
            "_view_count": null,
            "_view_module": "@jupyter-widgets/base",
            "_view_module_version": "1.2.0",
            "_view_name": "LayoutView",
            "align_content": null,
            "align_items": null,
            "align_self": null,
            "border": null,
            "bottom": null,
            "display": null,
            "flex": null,
            "flex_flow": null,
            "grid_area": null,
            "grid_auto_columns": null,
            "grid_auto_flow": null,
            "grid_auto_rows": null,
            "grid_column": null,
            "grid_gap": null,
            "grid_row": null,
            "grid_template_areas": null,
            "grid_template_columns": null,
            "grid_template_rows": null,
            "height": null,
            "justify_content": null,
            "justify_items": null,
            "left": null,
            "margin": null,
            "max_height": null,
            "max_width": null,
            "min_height": null,
            "min_width": null,
            "object_fit": null,
            "object_position": null,
            "order": null,
            "overflow": null,
            "overflow_x": null,
            "overflow_y": null,
            "padding": null,
            "right": null,
            "top": null,
            "visibility": null,
            "width": null
          }
        },
        "517db87d2bac4d5ca2b9707cef11dd19": {
          "model_module": "@jupyter-widgets/controls",
          "model_name": "DescriptionStyleModel",
          "model_module_version": "1.5.0",
          "state": {
            "_model_module": "@jupyter-widgets/controls",
            "_model_module_version": "1.5.0",
            "_model_name": "DescriptionStyleModel",
            "_view_count": null,
            "_view_module": "@jupyter-widgets/base",
            "_view_module_version": "1.2.0",
            "_view_name": "StyleView",
            "description_width": ""
          }
        },
        "ac62ab44152645e2a8dd471b8547be39": {
          "model_module": "@jupyter-widgets/controls",
          "model_name": "HBoxModel",
          "model_module_version": "1.5.0",
          "state": {
            "_dom_classes": [],
            "_model_module": "@jupyter-widgets/controls",
            "_model_module_version": "1.5.0",
            "_model_name": "HBoxModel",
            "_view_count": null,
            "_view_module": "@jupyter-widgets/controls",
            "_view_module_version": "1.5.0",
            "_view_name": "HBoxView",
            "box_style": "",
            "children": [
              "IPY_MODEL_4f27fc8f31e84195ab00a71e0202b4a6",
              "IPY_MODEL_3572f606442d4161b897ff8aa8122d68",
              "IPY_MODEL_cbdc78fc9dc44feaa0ad80487cf87b62"
            ],
            "layout": "IPY_MODEL_3c9f4a72791c4ba69366e5971fc72d63"
          }
        },
        "4f27fc8f31e84195ab00a71e0202b4a6": {
          "model_module": "@jupyter-widgets/controls",
          "model_name": "HTMLModel",
          "model_module_version": "1.5.0",
          "state": {
            "_dom_classes": [],
            "_model_module": "@jupyter-widgets/controls",
            "_model_module_version": "1.5.0",
            "_model_name": "HTMLModel",
            "_view_count": null,
            "_view_module": "@jupyter-widgets/controls",
            "_view_module_version": "1.5.0",
            "_view_name": "HTMLView",
            "description": "",
            "description_tooltip": null,
            "layout": "IPY_MODEL_4bae4dafbbf24f38a6ef89dcd8ce2019",
            "placeholder": "​",
            "style": "IPY_MODEL_15a4732f764e47deb5c309c0e091cb30",
            "value": "model.safetensors: 100%"
          }
        },
        "3572f606442d4161b897ff8aa8122d68": {
          "model_module": "@jupyter-widgets/controls",
          "model_name": "FloatProgressModel",
          "model_module_version": "1.5.0",
          "state": {
            "_dom_classes": [],
            "_model_module": "@jupyter-widgets/controls",
            "_model_module_version": "1.5.0",
            "_model_name": "FloatProgressModel",
            "_view_count": null,
            "_view_module": "@jupyter-widgets/controls",
            "_view_module_version": "1.5.0",
            "_view_name": "ProgressView",
            "bar_style": "success",
            "description": "",
            "description_tooltip": null,
            "layout": "IPY_MODEL_9068fbbb6f094f8fba30513fbec420ac",
            "max": 437975136,
            "min": 0,
            "orientation": "horizontal",
            "style": "IPY_MODEL_0d7a88ccb5874eb19a6d23584e24088a",
            "value": 437975136
          }
        },
        "cbdc78fc9dc44feaa0ad80487cf87b62": {
          "model_module": "@jupyter-widgets/controls",
          "model_name": "HTMLModel",
          "model_module_version": "1.5.0",
          "state": {
            "_dom_classes": [],
            "_model_module": "@jupyter-widgets/controls",
            "_model_module_version": "1.5.0",
            "_model_name": "HTMLModel",
            "_view_count": null,
            "_view_module": "@jupyter-widgets/controls",
            "_view_module_version": "1.5.0",
            "_view_name": "HTMLView",
            "description": "",
            "description_tooltip": null,
            "layout": "IPY_MODEL_2cc47565bdf04cf28a6b7b90360ce2fc",
            "placeholder": "​",
            "style": "IPY_MODEL_be279084e0964e55b6c1720c1880d66b",
            "value": " 438M/438M [00:04&lt;00:00, 66.1MB/s]"
          }
        },
        "3c9f4a72791c4ba69366e5971fc72d63": {
          "model_module": "@jupyter-widgets/base",
          "model_name": "LayoutModel",
          "model_module_version": "1.2.0",
          "state": {
            "_model_module": "@jupyter-widgets/base",
            "_model_module_version": "1.2.0",
            "_model_name": "LayoutModel",
            "_view_count": null,
            "_view_module": "@jupyter-widgets/base",
            "_view_module_version": "1.2.0",
            "_view_name": "LayoutView",
            "align_content": null,
            "align_items": null,
            "align_self": null,
            "border": null,
            "bottom": null,
            "display": null,
            "flex": null,
            "flex_flow": null,
            "grid_area": null,
            "grid_auto_columns": null,
            "grid_auto_flow": null,
            "grid_auto_rows": null,
            "grid_column": null,
            "grid_gap": null,
            "grid_row": null,
            "grid_template_areas": null,
            "grid_template_columns": null,
            "grid_template_rows": null,
            "height": null,
            "justify_content": null,
            "justify_items": null,
            "left": null,
            "margin": null,
            "max_height": null,
            "max_width": null,
            "min_height": null,
            "min_width": null,
            "object_fit": null,
            "object_position": null,
            "order": null,
            "overflow": null,
            "overflow_x": null,
            "overflow_y": null,
            "padding": null,
            "right": null,
            "top": null,
            "visibility": null,
            "width": null
          }
        },
        "4bae4dafbbf24f38a6ef89dcd8ce2019": {
          "model_module": "@jupyter-widgets/base",
          "model_name": "LayoutModel",
          "model_module_version": "1.2.0",
          "state": {
            "_model_module": "@jupyter-widgets/base",
            "_model_module_version": "1.2.0",
            "_model_name": "LayoutModel",
            "_view_count": null,
            "_view_module": "@jupyter-widgets/base",
            "_view_module_version": "1.2.0",
            "_view_name": "LayoutView",
            "align_content": null,
            "align_items": null,
            "align_self": null,
            "border": null,
            "bottom": null,
            "display": null,
            "flex": null,
            "flex_flow": null,
            "grid_area": null,
            "grid_auto_columns": null,
            "grid_auto_flow": null,
            "grid_auto_rows": null,
            "grid_column": null,
            "grid_gap": null,
            "grid_row": null,
            "grid_template_areas": null,
            "grid_template_columns": null,
            "grid_template_rows": null,
            "height": null,
            "justify_content": null,
            "justify_items": null,
            "left": null,
            "margin": null,
            "max_height": null,
            "max_width": null,
            "min_height": null,
            "min_width": null,
            "object_fit": null,
            "object_position": null,
            "order": null,
            "overflow": null,
            "overflow_x": null,
            "overflow_y": null,
            "padding": null,
            "right": null,
            "top": null,
            "visibility": null,
            "width": null
          }
        },
        "15a4732f764e47deb5c309c0e091cb30": {
          "model_module": "@jupyter-widgets/controls",
          "model_name": "DescriptionStyleModel",
          "model_module_version": "1.5.0",
          "state": {
            "_model_module": "@jupyter-widgets/controls",
            "_model_module_version": "1.5.0",
            "_model_name": "DescriptionStyleModel",
            "_view_count": null,
            "_view_module": "@jupyter-widgets/base",
            "_view_module_version": "1.2.0",
            "_view_name": "StyleView",
            "description_width": ""
          }
        },
        "9068fbbb6f094f8fba30513fbec420ac": {
          "model_module": "@jupyter-widgets/base",
          "model_name": "LayoutModel",
          "model_module_version": "1.2.0",
          "state": {
            "_model_module": "@jupyter-widgets/base",
            "_model_module_version": "1.2.0",
            "_model_name": "LayoutModel",
            "_view_count": null,
            "_view_module": "@jupyter-widgets/base",
            "_view_module_version": "1.2.0",
            "_view_name": "LayoutView",
            "align_content": null,
            "align_items": null,
            "align_self": null,
            "border": null,
            "bottom": null,
            "display": null,
            "flex": null,
            "flex_flow": null,
            "grid_area": null,
            "grid_auto_columns": null,
            "grid_auto_flow": null,
            "grid_auto_rows": null,
            "grid_column": null,
            "grid_gap": null,
            "grid_row": null,
            "grid_template_areas": null,
            "grid_template_columns": null,
            "grid_template_rows": null,
            "height": null,
            "justify_content": null,
            "justify_items": null,
            "left": null,
            "margin": null,
            "max_height": null,
            "max_width": null,
            "min_height": null,
            "min_width": null,
            "object_fit": null,
            "object_position": null,
            "order": null,
            "overflow": null,
            "overflow_x": null,
            "overflow_y": null,
            "padding": null,
            "right": null,
            "top": null,
            "visibility": null,
            "width": null
          }
        },
        "0d7a88ccb5874eb19a6d23584e24088a": {
          "model_module": "@jupyter-widgets/controls",
          "model_name": "ProgressStyleModel",
          "model_module_version": "1.5.0",
          "state": {
            "_model_module": "@jupyter-widgets/controls",
            "_model_module_version": "1.5.0",
            "_model_name": "ProgressStyleModel",
            "_view_count": null,
            "_view_module": "@jupyter-widgets/base",
            "_view_module_version": "1.2.0",
            "_view_name": "StyleView",
            "bar_color": null,
            "description_width": ""
          }
        },
        "2cc47565bdf04cf28a6b7b90360ce2fc": {
          "model_module": "@jupyter-widgets/base",
          "model_name": "LayoutModel",
          "model_module_version": "1.2.0",
          "state": {
            "_model_module": "@jupyter-widgets/base",
            "_model_module_version": "1.2.0",
            "_model_name": "LayoutModel",
            "_view_count": null,
            "_view_module": "@jupyter-widgets/base",
            "_view_module_version": "1.2.0",
            "_view_name": "LayoutView",
            "align_content": null,
            "align_items": null,
            "align_self": null,
            "border": null,
            "bottom": null,
            "display": null,
            "flex": null,
            "flex_flow": null,
            "grid_area": null,
            "grid_auto_columns": null,
            "grid_auto_flow": null,
            "grid_auto_rows": null,
            "grid_column": null,
            "grid_gap": null,
            "grid_row": null,
            "grid_template_areas": null,
            "grid_template_columns": null,
            "grid_template_rows": null,
            "height": null,
            "justify_content": null,
            "justify_items": null,
            "left": null,
            "margin": null,
            "max_height": null,
            "max_width": null,
            "min_height": null,
            "min_width": null,
            "object_fit": null,
            "object_position": null,
            "order": null,
            "overflow": null,
            "overflow_x": null,
            "overflow_y": null,
            "padding": null,
            "right": null,
            "top": null,
            "visibility": null,
            "width": null
          }
        },
        "be279084e0964e55b6c1720c1880d66b": {
          "model_module": "@jupyter-widgets/controls",
          "model_name": "DescriptionStyleModel",
          "model_module_version": "1.5.0",
          "state": {
            "_model_module": "@jupyter-widgets/controls",
            "_model_module_version": "1.5.0",
            "_model_name": "DescriptionStyleModel",
            "_view_count": null,
            "_view_module": "@jupyter-widgets/base",
            "_view_module_version": "1.2.0",
            "_view_name": "StyleView",
            "description_width": ""
          }
        },
        "947fcd1eba77476abab74ae4ac0a3c8d": {
          "model_module": "@jupyter-widgets/controls",
          "model_name": "HBoxModel",
          "model_module_version": "1.5.0",
          "state": {
            "_dom_classes": [],
            "_model_module": "@jupyter-widgets/controls",
            "_model_module_version": "1.5.0",
            "_model_name": "HBoxModel",
            "_view_count": null,
            "_view_module": "@jupyter-widgets/controls",
            "_view_module_version": "1.5.0",
            "_view_name": "HBoxView",
            "box_style": "",
            "children": [
              "IPY_MODEL_657b0f2627524c5a944550a78b5688b3",
              "IPY_MODEL_68a7504b95b4443eadb8d5e435698f93",
              "IPY_MODEL_28d954e2b14243a7abf467fee3e02da5"
            ],
            "layout": "IPY_MODEL_da7a731f9cc444678c0c9b8f804d2dc3"
          }
        },
        "657b0f2627524c5a944550a78b5688b3": {
          "model_module": "@jupyter-widgets/controls",
          "model_name": "HTMLModel",
          "model_module_version": "1.5.0",
          "state": {
            "_dom_classes": [],
            "_model_module": "@jupyter-widgets/controls",
            "_model_module_version": "1.5.0",
            "_model_name": "HTMLModel",
            "_view_count": null,
            "_view_module": "@jupyter-widgets/controls",
            "_view_module_version": "1.5.0",
            "_view_name": "HTMLView",
            "description": "",
            "description_tooltip": null,
            "layout": "IPY_MODEL_eb13b3733c8344fabd85f445ab37c221",
            "placeholder": "​",
            "style": "IPY_MODEL_08685edd43594de992df487721f27a2a",
            "value": "tokenizer_config.json: 100%"
          }
        },
        "68a7504b95b4443eadb8d5e435698f93": {
          "model_module": "@jupyter-widgets/controls",
          "model_name": "FloatProgressModel",
          "model_module_version": "1.5.0",
          "state": {
            "_dom_classes": [],
            "_model_module": "@jupyter-widgets/controls",
            "_model_module_version": "1.5.0",
            "_model_name": "FloatProgressModel",
            "_view_count": null,
            "_view_module": "@jupyter-widgets/controls",
            "_view_module_version": "1.5.0",
            "_view_name": "ProgressView",
            "bar_style": "success",
            "description": "",
            "description_tooltip": null,
            "layout": "IPY_MODEL_1c69e3ee88cb4464a4fe12471e991d49",
            "max": 174,
            "min": 0,
            "orientation": "horizontal",
            "style": "IPY_MODEL_17997dd3a22a41568fae57c0a1566c16",
            "value": 174
          }
        },
        "28d954e2b14243a7abf467fee3e02da5": {
          "model_module": "@jupyter-widgets/controls",
          "model_name": "HTMLModel",
          "model_module_version": "1.5.0",
          "state": {
            "_dom_classes": [],
            "_model_module": "@jupyter-widgets/controls",
            "_model_module_version": "1.5.0",
            "_model_name": "HTMLModel",
            "_view_count": null,
            "_view_module": "@jupyter-widgets/controls",
            "_view_module_version": "1.5.0",
            "_view_name": "HTMLView",
            "description": "",
            "description_tooltip": null,
            "layout": "IPY_MODEL_0a9d57fc274d452ba59d864a0d2fc583",
            "placeholder": "​",
            "style": "IPY_MODEL_3fa2e216bfb24c948393d9bc91f00796",
            "value": " 174/174 [00:00&lt;00:00, 8.79kB/s]"
          }
        },
        "da7a731f9cc444678c0c9b8f804d2dc3": {
          "model_module": "@jupyter-widgets/base",
          "model_name": "LayoutModel",
          "model_module_version": "1.2.0",
          "state": {
            "_model_module": "@jupyter-widgets/base",
            "_model_module_version": "1.2.0",
            "_model_name": "LayoutModel",
            "_view_count": null,
            "_view_module": "@jupyter-widgets/base",
            "_view_module_version": "1.2.0",
            "_view_name": "LayoutView",
            "align_content": null,
            "align_items": null,
            "align_self": null,
            "border": null,
            "bottom": null,
            "display": null,
            "flex": null,
            "flex_flow": null,
            "grid_area": null,
            "grid_auto_columns": null,
            "grid_auto_flow": null,
            "grid_auto_rows": null,
            "grid_column": null,
            "grid_gap": null,
            "grid_row": null,
            "grid_template_areas": null,
            "grid_template_columns": null,
            "grid_template_rows": null,
            "height": null,
            "justify_content": null,
            "justify_items": null,
            "left": null,
            "margin": null,
            "max_height": null,
            "max_width": null,
            "min_height": null,
            "min_width": null,
            "object_fit": null,
            "object_position": null,
            "order": null,
            "overflow": null,
            "overflow_x": null,
            "overflow_y": null,
            "padding": null,
            "right": null,
            "top": null,
            "visibility": null,
            "width": null
          }
        },
        "eb13b3733c8344fabd85f445ab37c221": {
          "model_module": "@jupyter-widgets/base",
          "model_name": "LayoutModel",
          "model_module_version": "1.2.0",
          "state": {
            "_model_module": "@jupyter-widgets/base",
            "_model_module_version": "1.2.0",
            "_model_name": "LayoutModel",
            "_view_count": null,
            "_view_module": "@jupyter-widgets/base",
            "_view_module_version": "1.2.0",
            "_view_name": "LayoutView",
            "align_content": null,
            "align_items": null,
            "align_self": null,
            "border": null,
            "bottom": null,
            "display": null,
            "flex": null,
            "flex_flow": null,
            "grid_area": null,
            "grid_auto_columns": null,
            "grid_auto_flow": null,
            "grid_auto_rows": null,
            "grid_column": null,
            "grid_gap": null,
            "grid_row": null,
            "grid_template_areas": null,
            "grid_template_columns": null,
            "grid_template_rows": null,
            "height": null,
            "justify_content": null,
            "justify_items": null,
            "left": null,
            "margin": null,
            "max_height": null,
            "max_width": null,
            "min_height": null,
            "min_width": null,
            "object_fit": null,
            "object_position": null,
            "order": null,
            "overflow": null,
            "overflow_x": null,
            "overflow_y": null,
            "padding": null,
            "right": null,
            "top": null,
            "visibility": null,
            "width": null
          }
        },
        "08685edd43594de992df487721f27a2a": {
          "model_module": "@jupyter-widgets/controls",
          "model_name": "DescriptionStyleModel",
          "model_module_version": "1.5.0",
          "state": {
            "_model_module": "@jupyter-widgets/controls",
            "_model_module_version": "1.5.0",
            "_model_name": "DescriptionStyleModel",
            "_view_count": null,
            "_view_module": "@jupyter-widgets/base",
            "_view_module_version": "1.2.0",
            "_view_name": "StyleView",
            "description_width": ""
          }
        },
        "1c69e3ee88cb4464a4fe12471e991d49": {
          "model_module": "@jupyter-widgets/base",
          "model_name": "LayoutModel",
          "model_module_version": "1.2.0",
          "state": {
            "_model_module": "@jupyter-widgets/base",
            "_model_module_version": "1.2.0",
            "_model_name": "LayoutModel",
            "_view_count": null,
            "_view_module": "@jupyter-widgets/base",
            "_view_module_version": "1.2.0",
            "_view_name": "LayoutView",
            "align_content": null,
            "align_items": null,
            "align_self": null,
            "border": null,
            "bottom": null,
            "display": null,
            "flex": null,
            "flex_flow": null,
            "grid_area": null,
            "grid_auto_columns": null,
            "grid_auto_flow": null,
            "grid_auto_rows": null,
            "grid_column": null,
            "grid_gap": null,
            "grid_row": null,
            "grid_template_areas": null,
            "grid_template_columns": null,
            "grid_template_rows": null,
            "height": null,
            "justify_content": null,
            "justify_items": null,
            "left": null,
            "margin": null,
            "max_height": null,
            "max_width": null,
            "min_height": null,
            "min_width": null,
            "object_fit": null,
            "object_position": null,
            "order": null,
            "overflow": null,
            "overflow_x": null,
            "overflow_y": null,
            "padding": null,
            "right": null,
            "top": null,
            "visibility": null,
            "width": null
          }
        },
        "17997dd3a22a41568fae57c0a1566c16": {
          "model_module": "@jupyter-widgets/controls",
          "model_name": "ProgressStyleModel",
          "model_module_version": "1.5.0",
          "state": {
            "_model_module": "@jupyter-widgets/controls",
            "_model_module_version": "1.5.0",
            "_model_name": "ProgressStyleModel",
            "_view_count": null,
            "_view_module": "@jupyter-widgets/base",
            "_view_module_version": "1.2.0",
            "_view_name": "StyleView",
            "bar_color": null,
            "description_width": ""
          }
        },
        "0a9d57fc274d452ba59d864a0d2fc583": {
          "model_module": "@jupyter-widgets/base",
          "model_name": "LayoutModel",
          "model_module_version": "1.2.0",
          "state": {
            "_model_module": "@jupyter-widgets/base",
            "_model_module_version": "1.2.0",
            "_model_name": "LayoutModel",
            "_view_count": null,
            "_view_module": "@jupyter-widgets/base",
            "_view_module_version": "1.2.0",
            "_view_name": "LayoutView",
            "align_content": null,
            "align_items": null,
            "align_self": null,
            "border": null,
            "bottom": null,
            "display": null,
            "flex": null,
            "flex_flow": null,
            "grid_area": null,
            "grid_auto_columns": null,
            "grid_auto_flow": null,
            "grid_auto_rows": null,
            "grid_column": null,
            "grid_gap": null,
            "grid_row": null,
            "grid_template_areas": null,
            "grid_template_columns": null,
            "grid_template_rows": null,
            "height": null,
            "justify_content": null,
            "justify_items": null,
            "left": null,
            "margin": null,
            "max_height": null,
            "max_width": null,
            "min_height": null,
            "min_width": null,
            "object_fit": null,
            "object_position": null,
            "order": null,
            "overflow": null,
            "overflow_x": null,
            "overflow_y": null,
            "padding": null,
            "right": null,
            "top": null,
            "visibility": null,
            "width": null
          }
        },
        "3fa2e216bfb24c948393d9bc91f00796": {
          "model_module": "@jupyter-widgets/controls",
          "model_name": "DescriptionStyleModel",
          "model_module_version": "1.5.0",
          "state": {
            "_model_module": "@jupyter-widgets/controls",
            "_model_module_version": "1.5.0",
            "_model_name": "DescriptionStyleModel",
            "_view_count": null,
            "_view_module": "@jupyter-widgets/base",
            "_view_module_version": "1.2.0",
            "_view_name": "StyleView",
            "description_width": ""
          }
        },
        "fac1300034d74fe195d26f79fccc126f": {
          "model_module": "@jupyter-widgets/controls",
          "model_name": "HBoxModel",
          "model_module_version": "1.5.0",
          "state": {
            "_dom_classes": [],
            "_model_module": "@jupyter-widgets/controls",
            "_model_module_version": "1.5.0",
            "_model_name": "HBoxModel",
            "_view_count": null,
            "_view_module": "@jupyter-widgets/controls",
            "_view_module_version": "1.5.0",
            "_view_name": "HBoxView",
            "box_style": "",
            "children": [
              "IPY_MODEL_2f2068a47131481ab9f1c47f5a5fa82a",
              "IPY_MODEL_e38002edee8f4a02b2487f9144e5c7e3",
              "IPY_MODEL_d994a830501d46e1b5a2cf30ceb375a1"
            ],
            "layout": "IPY_MODEL_77a54fe982354b319b34661c155b285f"
          }
        },
        "2f2068a47131481ab9f1c47f5a5fa82a": {
          "model_module": "@jupyter-widgets/controls",
          "model_name": "HTMLModel",
          "model_module_version": "1.5.0",
          "state": {
            "_dom_classes": [],
            "_model_module": "@jupyter-widgets/controls",
            "_model_module_version": "1.5.0",
            "_model_name": "HTMLModel",
            "_view_count": null,
            "_view_module": "@jupyter-widgets/controls",
            "_view_module_version": "1.5.0",
            "_view_name": "HTMLView",
            "description": "",
            "description_tooltip": null,
            "layout": "IPY_MODEL_8a9f3e9918264edcbb88b4b642b340a0",
            "placeholder": "​",
            "style": "IPY_MODEL_172a359d4412490e9249f55c0b5134cd",
            "value": "vocab.txt: 100%"
          }
        },
        "e38002edee8f4a02b2487f9144e5c7e3": {
          "model_module": "@jupyter-widgets/controls",
          "model_name": "FloatProgressModel",
          "model_module_version": "1.5.0",
          "state": {
            "_dom_classes": [],
            "_model_module": "@jupyter-widgets/controls",
            "_model_module_version": "1.5.0",
            "_model_name": "FloatProgressModel",
            "_view_count": null,
            "_view_module": "@jupyter-widgets/controls",
            "_view_module_version": "1.5.0",
            "_view_name": "ProgressView",
            "bar_style": "success",
            "description": "",
            "description_tooltip": null,
            "layout": "IPY_MODEL_335a3a422a91414ebc521186613d0eae",
            "max": 231508,
            "min": 0,
            "orientation": "horizontal",
            "style": "IPY_MODEL_fa8885616cb74852885bd7d6e28e5985",
            "value": 231508
          }
        },
        "d994a830501d46e1b5a2cf30ceb375a1": {
          "model_module": "@jupyter-widgets/controls",
          "model_name": "HTMLModel",
          "model_module_version": "1.5.0",
          "state": {
            "_dom_classes": [],
            "_model_module": "@jupyter-widgets/controls",
            "_model_module_version": "1.5.0",
            "_model_name": "HTMLModel",
            "_view_count": null,
            "_view_module": "@jupyter-widgets/controls",
            "_view_module_version": "1.5.0",
            "_view_name": "HTMLView",
            "description": "",
            "description_tooltip": null,
            "layout": "IPY_MODEL_afc3bef9b0a3492d80772eff3bc36a40",
            "placeholder": "​",
            "style": "IPY_MODEL_3d799cf707524092be94a7a1992a724b",
            "value": " 232k/232k [00:00&lt;00:00, 2.89MB/s]"
          }
        },
        "77a54fe982354b319b34661c155b285f": {
          "model_module": "@jupyter-widgets/base",
          "model_name": "LayoutModel",
          "model_module_version": "1.2.0",
          "state": {
            "_model_module": "@jupyter-widgets/base",
            "_model_module_version": "1.2.0",
            "_model_name": "LayoutModel",
            "_view_count": null,
            "_view_module": "@jupyter-widgets/base",
            "_view_module_version": "1.2.0",
            "_view_name": "LayoutView",
            "align_content": null,
            "align_items": null,
            "align_self": null,
            "border": null,
            "bottom": null,
            "display": null,
            "flex": null,
            "flex_flow": null,
            "grid_area": null,
            "grid_auto_columns": null,
            "grid_auto_flow": null,
            "grid_auto_rows": null,
            "grid_column": null,
            "grid_gap": null,
            "grid_row": null,
            "grid_template_areas": null,
            "grid_template_columns": null,
            "grid_template_rows": null,
            "height": null,
            "justify_content": null,
            "justify_items": null,
            "left": null,
            "margin": null,
            "max_height": null,
            "max_width": null,
            "min_height": null,
            "min_width": null,
            "object_fit": null,
            "object_position": null,
            "order": null,
            "overflow": null,
            "overflow_x": null,
            "overflow_y": null,
            "padding": null,
            "right": null,
            "top": null,
            "visibility": null,
            "width": null
          }
        },
        "8a9f3e9918264edcbb88b4b642b340a0": {
          "model_module": "@jupyter-widgets/base",
          "model_name": "LayoutModel",
          "model_module_version": "1.2.0",
          "state": {
            "_model_module": "@jupyter-widgets/base",
            "_model_module_version": "1.2.0",
            "_model_name": "LayoutModel",
            "_view_count": null,
            "_view_module": "@jupyter-widgets/base",
            "_view_module_version": "1.2.0",
            "_view_name": "LayoutView",
            "align_content": null,
            "align_items": null,
            "align_self": null,
            "border": null,
            "bottom": null,
            "display": null,
            "flex": null,
            "flex_flow": null,
            "grid_area": null,
            "grid_auto_columns": null,
            "grid_auto_flow": null,
            "grid_auto_rows": null,
            "grid_column": null,
            "grid_gap": null,
            "grid_row": null,
            "grid_template_areas": null,
            "grid_template_columns": null,
            "grid_template_rows": null,
            "height": null,
            "justify_content": null,
            "justify_items": null,
            "left": null,
            "margin": null,
            "max_height": null,
            "max_width": null,
            "min_height": null,
            "min_width": null,
            "object_fit": null,
            "object_position": null,
            "order": null,
            "overflow": null,
            "overflow_x": null,
            "overflow_y": null,
            "padding": null,
            "right": null,
            "top": null,
            "visibility": null,
            "width": null
          }
        },
        "172a359d4412490e9249f55c0b5134cd": {
          "model_module": "@jupyter-widgets/controls",
          "model_name": "DescriptionStyleModel",
          "model_module_version": "1.5.0",
          "state": {
            "_model_module": "@jupyter-widgets/controls",
            "_model_module_version": "1.5.0",
            "_model_name": "DescriptionStyleModel",
            "_view_count": null,
            "_view_module": "@jupyter-widgets/base",
            "_view_module_version": "1.2.0",
            "_view_name": "StyleView",
            "description_width": ""
          }
        },
        "335a3a422a91414ebc521186613d0eae": {
          "model_module": "@jupyter-widgets/base",
          "model_name": "LayoutModel",
          "model_module_version": "1.2.0",
          "state": {
            "_model_module": "@jupyter-widgets/base",
            "_model_module_version": "1.2.0",
            "_model_name": "LayoutModel",
            "_view_count": null,
            "_view_module": "@jupyter-widgets/base",
            "_view_module_version": "1.2.0",
            "_view_name": "LayoutView",
            "align_content": null,
            "align_items": null,
            "align_self": null,
            "border": null,
            "bottom": null,
            "display": null,
            "flex": null,
            "flex_flow": null,
            "grid_area": null,
            "grid_auto_columns": null,
            "grid_auto_flow": null,
            "grid_auto_rows": null,
            "grid_column": null,
            "grid_gap": null,
            "grid_row": null,
            "grid_template_areas": null,
            "grid_template_columns": null,
            "grid_template_rows": null,
            "height": null,
            "justify_content": null,
            "justify_items": null,
            "left": null,
            "margin": null,
            "max_height": null,
            "max_width": null,
            "min_height": null,
            "min_width": null,
            "object_fit": null,
            "object_position": null,
            "order": null,
            "overflow": null,
            "overflow_x": null,
            "overflow_y": null,
            "padding": null,
            "right": null,
            "top": null,
            "visibility": null,
            "width": null
          }
        },
        "fa8885616cb74852885bd7d6e28e5985": {
          "model_module": "@jupyter-widgets/controls",
          "model_name": "ProgressStyleModel",
          "model_module_version": "1.5.0",
          "state": {
            "_model_module": "@jupyter-widgets/controls",
            "_model_module_version": "1.5.0",
            "_model_name": "ProgressStyleModel",
            "_view_count": null,
            "_view_module": "@jupyter-widgets/base",
            "_view_module_version": "1.2.0",
            "_view_name": "StyleView",
            "bar_color": null,
            "description_width": ""
          }
        },
        "afc3bef9b0a3492d80772eff3bc36a40": {
          "model_module": "@jupyter-widgets/base",
          "model_name": "LayoutModel",
          "model_module_version": "1.2.0",
          "state": {
            "_model_module": "@jupyter-widgets/base",
            "_model_module_version": "1.2.0",
            "_model_name": "LayoutModel",
            "_view_count": null,
            "_view_module": "@jupyter-widgets/base",
            "_view_module_version": "1.2.0",
            "_view_name": "LayoutView",
            "align_content": null,
            "align_items": null,
            "align_self": null,
            "border": null,
            "bottom": null,
            "display": null,
            "flex": null,
            "flex_flow": null,
            "grid_area": null,
            "grid_auto_columns": null,
            "grid_auto_flow": null,
            "grid_auto_rows": null,
            "grid_column": null,
            "grid_gap": null,
            "grid_row": null,
            "grid_template_areas": null,
            "grid_template_columns": null,
            "grid_template_rows": null,
            "height": null,
            "justify_content": null,
            "justify_items": null,
            "left": null,
            "margin": null,
            "max_height": null,
            "max_width": null,
            "min_height": null,
            "min_width": null,
            "object_fit": null,
            "object_position": null,
            "order": null,
            "overflow": null,
            "overflow_x": null,
            "overflow_y": null,
            "padding": null,
            "right": null,
            "top": null,
            "visibility": null,
            "width": null
          }
        },
        "3d799cf707524092be94a7a1992a724b": {
          "model_module": "@jupyter-widgets/controls",
          "model_name": "DescriptionStyleModel",
          "model_module_version": "1.5.0",
          "state": {
            "_model_module": "@jupyter-widgets/controls",
            "_model_module_version": "1.5.0",
            "_model_name": "DescriptionStyleModel",
            "_view_count": null,
            "_view_module": "@jupyter-widgets/base",
            "_view_module_version": "1.2.0",
            "_view_name": "StyleView",
            "description_width": ""
          }
        },
        "f3b9ee0be27246e3b43efb5a981caff3": {
          "model_module": "@jupyter-widgets/controls",
          "model_name": "HBoxModel",
          "model_module_version": "1.5.0",
          "state": {
            "_dom_classes": [],
            "_model_module": "@jupyter-widgets/controls",
            "_model_module_version": "1.5.0",
            "_model_name": "HBoxModel",
            "_view_count": null,
            "_view_module": "@jupyter-widgets/controls",
            "_view_module_version": "1.5.0",
            "_view_name": "HBoxView",
            "box_style": "",
            "children": [
              "IPY_MODEL_6d54744bee15449e8921226eab726805",
              "IPY_MODEL_0b428f739f36482ba015c0e4c10771c4",
              "IPY_MODEL_112a830b4b644215855f46d547dff2ab"
            ],
            "layout": "IPY_MODEL_5919c524118c48c0a773f3722d88b374"
          }
        },
        "6d54744bee15449e8921226eab726805": {
          "model_module": "@jupyter-widgets/controls",
          "model_name": "HTMLModel",
          "model_module_version": "1.5.0",
          "state": {
            "_dom_classes": [],
            "_model_module": "@jupyter-widgets/controls",
            "_model_module_version": "1.5.0",
            "_model_name": "HTMLModel",
            "_view_count": null,
            "_view_module": "@jupyter-widgets/controls",
            "_view_module_version": "1.5.0",
            "_view_name": "HTMLView",
            "description": "",
            "description_tooltip": null,
            "layout": "IPY_MODEL_913e9212c1304e0895eae6299e532529",
            "placeholder": "​",
            "style": "IPY_MODEL_91a586ffdd494c54a47ba074d157374d",
            "value": "special_tokens_map.json: 100%"
          }
        },
        "0b428f739f36482ba015c0e4c10771c4": {
          "model_module": "@jupyter-widgets/controls",
          "model_name": "FloatProgressModel",
          "model_module_version": "1.5.0",
          "state": {
            "_dom_classes": [],
            "_model_module": "@jupyter-widgets/controls",
            "_model_module_version": "1.5.0",
            "_model_name": "FloatProgressModel",
            "_view_count": null,
            "_view_module": "@jupyter-widgets/controls",
            "_view_module_version": "1.5.0",
            "_view_name": "ProgressView",
            "bar_style": "success",
            "description": "",
            "description_tooltip": null,
            "layout": "IPY_MODEL_88caee919f7e4b1494820b9379984bf5",
            "max": 112,
            "min": 0,
            "orientation": "horizontal",
            "style": "IPY_MODEL_eba4e70d35684a069ec6a945c8c51f4a",
            "value": 112
          }
        },
        "112a830b4b644215855f46d547dff2ab": {
          "model_module": "@jupyter-widgets/controls",
          "model_name": "HTMLModel",
          "model_module_version": "1.5.0",
          "state": {
            "_dom_classes": [],
            "_model_module": "@jupyter-widgets/controls",
            "_model_module_version": "1.5.0",
            "_model_name": "HTMLModel",
            "_view_count": null,
            "_view_module": "@jupyter-widgets/controls",
            "_view_module_version": "1.5.0",
            "_view_name": "HTMLView",
            "description": "",
            "description_tooltip": null,
            "layout": "IPY_MODEL_acbfc8630d9a435cb1620821c1216bb4",
            "placeholder": "​",
            "style": "IPY_MODEL_d2b4613826b349f994eed730e920c7ea",
            "value": " 112/112 [00:00&lt;00:00, 6.49kB/s]"
          }
        },
        "5919c524118c48c0a773f3722d88b374": {
          "model_module": "@jupyter-widgets/base",
          "model_name": "LayoutModel",
          "model_module_version": "1.2.0",
          "state": {
            "_model_module": "@jupyter-widgets/base",
            "_model_module_version": "1.2.0",
            "_model_name": "LayoutModel",
            "_view_count": null,
            "_view_module": "@jupyter-widgets/base",
            "_view_module_version": "1.2.0",
            "_view_name": "LayoutView",
            "align_content": null,
            "align_items": null,
            "align_self": null,
            "border": null,
            "bottom": null,
            "display": null,
            "flex": null,
            "flex_flow": null,
            "grid_area": null,
            "grid_auto_columns": null,
            "grid_auto_flow": null,
            "grid_auto_rows": null,
            "grid_column": null,
            "grid_gap": null,
            "grid_row": null,
            "grid_template_areas": null,
            "grid_template_columns": null,
            "grid_template_rows": null,
            "height": null,
            "justify_content": null,
            "justify_items": null,
            "left": null,
            "margin": null,
            "max_height": null,
            "max_width": null,
            "min_height": null,
            "min_width": null,
            "object_fit": null,
            "object_position": null,
            "order": null,
            "overflow": null,
            "overflow_x": null,
            "overflow_y": null,
            "padding": null,
            "right": null,
            "top": null,
            "visibility": null,
            "width": null
          }
        },
        "913e9212c1304e0895eae6299e532529": {
          "model_module": "@jupyter-widgets/base",
          "model_name": "LayoutModel",
          "model_module_version": "1.2.0",
          "state": {
            "_model_module": "@jupyter-widgets/base",
            "_model_module_version": "1.2.0",
            "_model_name": "LayoutModel",
            "_view_count": null,
            "_view_module": "@jupyter-widgets/base",
            "_view_module_version": "1.2.0",
            "_view_name": "LayoutView",
            "align_content": null,
            "align_items": null,
            "align_self": null,
            "border": null,
            "bottom": null,
            "display": null,
            "flex": null,
            "flex_flow": null,
            "grid_area": null,
            "grid_auto_columns": null,
            "grid_auto_flow": null,
            "grid_auto_rows": null,
            "grid_column": null,
            "grid_gap": null,
            "grid_row": null,
            "grid_template_areas": null,
            "grid_template_columns": null,
            "grid_template_rows": null,
            "height": null,
            "justify_content": null,
            "justify_items": null,
            "left": null,
            "margin": null,
            "max_height": null,
            "max_width": null,
            "min_height": null,
            "min_width": null,
            "object_fit": null,
            "object_position": null,
            "order": null,
            "overflow": null,
            "overflow_x": null,
            "overflow_y": null,
            "padding": null,
            "right": null,
            "top": null,
            "visibility": null,
            "width": null
          }
        },
        "91a586ffdd494c54a47ba074d157374d": {
          "model_module": "@jupyter-widgets/controls",
          "model_name": "DescriptionStyleModel",
          "model_module_version": "1.5.0",
          "state": {
            "_model_module": "@jupyter-widgets/controls",
            "_model_module_version": "1.5.0",
            "_model_name": "DescriptionStyleModel",
            "_view_count": null,
            "_view_module": "@jupyter-widgets/base",
            "_view_module_version": "1.2.0",
            "_view_name": "StyleView",
            "description_width": ""
          }
        },
        "88caee919f7e4b1494820b9379984bf5": {
          "model_module": "@jupyter-widgets/base",
          "model_name": "LayoutModel",
          "model_module_version": "1.2.0",
          "state": {
            "_model_module": "@jupyter-widgets/base",
            "_model_module_version": "1.2.0",
            "_model_name": "LayoutModel",
            "_view_count": null,
            "_view_module": "@jupyter-widgets/base",
            "_view_module_version": "1.2.0",
            "_view_name": "LayoutView",
            "align_content": null,
            "align_items": null,
            "align_self": null,
            "border": null,
            "bottom": null,
            "display": null,
            "flex": null,
            "flex_flow": null,
            "grid_area": null,
            "grid_auto_columns": null,
            "grid_auto_flow": null,
            "grid_auto_rows": null,
            "grid_column": null,
            "grid_gap": null,
            "grid_row": null,
            "grid_template_areas": null,
            "grid_template_columns": null,
            "grid_template_rows": null,
            "height": null,
            "justify_content": null,
            "justify_items": null,
            "left": null,
            "margin": null,
            "max_height": null,
            "max_width": null,
            "min_height": null,
            "min_width": null,
            "object_fit": null,
            "object_position": null,
            "order": null,
            "overflow": null,
            "overflow_x": null,
            "overflow_y": null,
            "padding": null,
            "right": null,
            "top": null,
            "visibility": null,
            "width": null
          }
        },
        "eba4e70d35684a069ec6a945c8c51f4a": {
          "model_module": "@jupyter-widgets/controls",
          "model_name": "ProgressStyleModel",
          "model_module_version": "1.5.0",
          "state": {
            "_model_module": "@jupyter-widgets/controls",
            "_model_module_version": "1.5.0",
            "_model_name": "ProgressStyleModel",
            "_view_count": null,
            "_view_module": "@jupyter-widgets/base",
            "_view_module_version": "1.2.0",
            "_view_name": "StyleView",
            "bar_color": null,
            "description_width": ""
          }
        },
        "acbfc8630d9a435cb1620821c1216bb4": {
          "model_module": "@jupyter-widgets/base",
          "model_name": "LayoutModel",
          "model_module_version": "1.2.0",
          "state": {
            "_model_module": "@jupyter-widgets/base",
            "_model_module_version": "1.2.0",
            "_model_name": "LayoutModel",
            "_view_count": null,
            "_view_module": "@jupyter-widgets/base",
            "_view_module_version": "1.2.0",
            "_view_name": "LayoutView",
            "align_content": null,
            "align_items": null,
            "align_self": null,
            "border": null,
            "bottom": null,
            "display": null,
            "flex": null,
            "flex_flow": null,
            "grid_area": null,
            "grid_auto_columns": null,
            "grid_auto_flow": null,
            "grid_auto_rows": null,
            "grid_column": null,
            "grid_gap": null,
            "grid_row": null,
            "grid_template_areas": null,
            "grid_template_columns": null,
            "grid_template_rows": null,
            "height": null,
            "justify_content": null,
            "justify_items": null,
            "left": null,
            "margin": null,
            "max_height": null,
            "max_width": null,
            "min_height": null,
            "min_width": null,
            "object_fit": null,
            "object_position": null,
            "order": null,
            "overflow": null,
            "overflow_x": null,
            "overflow_y": null,
            "padding": null,
            "right": null,
            "top": null,
            "visibility": null,
            "width": null
          }
        },
        "d2b4613826b349f994eed730e920c7ea": {
          "model_module": "@jupyter-widgets/controls",
          "model_name": "DescriptionStyleModel",
          "model_module_version": "1.5.0",
          "state": {
            "_model_module": "@jupyter-widgets/controls",
            "_model_module_version": "1.5.0",
            "_model_name": "DescriptionStyleModel",
            "_view_count": null,
            "_view_module": "@jupyter-widgets/base",
            "_view_module_version": "1.2.0",
            "_view_name": "StyleView",
            "description_width": ""
          }
        }
      }
    }
  },
  "nbformat": 4,
  "nbformat_minor": 0
}